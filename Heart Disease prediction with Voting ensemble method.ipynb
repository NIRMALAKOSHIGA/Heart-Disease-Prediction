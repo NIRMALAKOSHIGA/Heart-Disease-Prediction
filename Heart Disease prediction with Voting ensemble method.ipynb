{
 "cells": [
  {
   "cell_type": "code",
   "execution_count": 1,
   "metadata": {
    "ExecuteTime": {
     "end_time": "2023-01-03T05:43:17.271003Z",
     "start_time": "2023-01-03T05:43:16.907938Z"
    },
    "colab": {},
    "colab_type": "code",
    "id": "LwEqIVqOTIHd"
   },
   "outputs": [],
   "source": [
    "# Importing essential libraries\n",
    "import numpy as np\n",
    "import pandas as pd"
   ]
  },
  {
   "cell_type": "code",
   "execution_count": 2,
   "metadata": {
    "ExecuteTime": {
     "end_time": "2023-01-03T05:43:17.287314Z",
     "start_time": "2023-01-03T05:43:17.271003Z"
    },
    "colab": {},
    "colab_type": "code",
    "id": "JpIAT4StTd2m"
   },
   "outputs": [],
   "source": [
    "# Loading the dataset\n",
    "df = pd.read_csv(\"heart.csv\")"
   ]
  },
  {
   "cell_type": "markdown",
   "metadata": {
    "colab_type": "text",
    "id": "9BEBuDSiTwfU"
   },
   "source": [
    "# **Exploring the dataset**"
   ]
  },
  {
   "cell_type": "code",
   "execution_count": 3,
   "metadata": {
    "ExecuteTime": {
     "end_time": "2023-01-03T05:43:17.302862Z",
     "start_time": "2023-01-03T05:43:17.288326Z"
    },
    "colab": {
     "base_uri": "https://localhost:8080/",
     "height": 34
    },
    "colab_type": "code",
    "id": "K0ACfPwfTrPN",
    "outputId": "1cb510c9-5507-45e1-9ef3-9b3250447c27"
   },
   "outputs": [
    {
     "data": {
      "text/plain": [
       "(303, 14)"
      ]
     },
     "execution_count": 3,
     "metadata": {},
     "output_type": "execute_result"
    }
   ],
   "source": [
    "# Returns number of rows and columns of the dataset\n",
    "df.shape"
   ]
  },
  {
   "cell_type": "code",
   "execution_count": 4,
   "metadata": {
    "ExecuteTime": {
     "end_time": "2023-01-03T05:43:17.319553Z",
     "start_time": "2023-01-03T05:43:17.305857Z"
    },
    "colab": {
     "base_uri": "https://localhost:8080/",
     "height": 70
    },
    "colab_type": "code",
    "id": "3YXc-hnxT3uT",
    "outputId": "463fa98c-07cf-4924-f93b-a6993e505528"
   },
   "outputs": [
    {
     "data": {
      "text/plain": [
       "Index(['age', 'sex', 'cp', 'trestbps', 'chol', 'fbs', 'restecg', 'thalach',\n",
       "       'exang', 'oldpeak', 'slope', 'ca', 'thal', 'target'],\n",
       "      dtype='object')"
      ]
     },
     "execution_count": 4,
     "metadata": {},
     "output_type": "execute_result"
    }
   ],
   "source": [
    "# Returns an object with all of the column headers\n",
    "df.columns"
   ]
  },
  {
   "cell_type": "code",
   "execution_count": 5,
   "metadata": {
    "ExecuteTime": {
     "end_time": "2023-01-03T05:43:17.336029Z",
     "start_time": "2023-01-03T05:43:17.323678Z"
    },
    "colab": {
     "base_uri": "https://localhost:8080/",
     "height": 283
    },
    "colab_type": "code",
    "id": "VnR5V7tsUJ0L",
    "outputId": "ce26ebc9-71d7-4f22-8baf-6ee98015553c"
   },
   "outputs": [
    {
     "data": {
      "text/plain": [
       "age           int64\n",
       "sex           int64\n",
       "cp            int64\n",
       "trestbps      int64\n",
       "chol          int64\n",
       "fbs           int64\n",
       "restecg       int64\n",
       "thalach       int64\n",
       "exang         int64\n",
       "oldpeak     float64\n",
       "slope         int64\n",
       "ca            int64\n",
       "thal          int64\n",
       "target        int64\n",
       "dtype: object"
      ]
     },
     "execution_count": 5,
     "metadata": {},
     "output_type": "execute_result"
    }
   ],
   "source": [
    "# Returns different datatypes for each columns (float, int, string, bool, etc.)\n",
    "df.dtypes"
   ]
  },
  {
   "cell_type": "code",
   "execution_count": 6,
   "metadata": {
    "ExecuteTime": {
     "end_time": "2023-01-03T05:43:17.377793Z",
     "start_time": "2023-01-03T05:43:17.343703Z"
    },
    "colab": {
     "base_uri": "https://localhost:8080/",
     "height": 197
    },
    "colab_type": "code",
    "id": "5eT5OXUVUPqD",
    "outputId": "e6f3ed41-ed28-41d7-ae9d-32179d61847a"
   },
   "outputs": [
    {
     "data": {
      "text/html": [
       "<div>\n",
       "<style scoped>\n",
       "    .dataframe tbody tr th:only-of-type {\n",
       "        vertical-align: middle;\n",
       "    }\n",
       "\n",
       "    .dataframe tbody tr th {\n",
       "        vertical-align: top;\n",
       "    }\n",
       "\n",
       "    .dataframe thead th {\n",
       "        text-align: right;\n",
       "    }\n",
       "</style>\n",
       "<table border=\"1\" class=\"dataframe\">\n",
       "  <thead>\n",
       "    <tr style=\"text-align: right;\">\n",
       "      <th></th>\n",
       "      <th>age</th>\n",
       "      <th>sex</th>\n",
       "      <th>cp</th>\n",
       "      <th>trestbps</th>\n",
       "      <th>chol</th>\n",
       "      <th>fbs</th>\n",
       "      <th>restecg</th>\n",
       "      <th>thalach</th>\n",
       "      <th>exang</th>\n",
       "      <th>oldpeak</th>\n",
       "      <th>slope</th>\n",
       "      <th>ca</th>\n",
       "      <th>thal</th>\n",
       "      <th>target</th>\n",
       "    </tr>\n",
       "  </thead>\n",
       "  <tbody>\n",
       "    <tr>\n",
       "      <th>0</th>\n",
       "      <td>63</td>\n",
       "      <td>1</td>\n",
       "      <td>3</td>\n",
       "      <td>145</td>\n",
       "      <td>233</td>\n",
       "      <td>1</td>\n",
       "      <td>0</td>\n",
       "      <td>150</td>\n",
       "      <td>0</td>\n",
       "      <td>2.3</td>\n",
       "      <td>0</td>\n",
       "      <td>0</td>\n",
       "      <td>1</td>\n",
       "      <td>1</td>\n",
       "    </tr>\n",
       "    <tr>\n",
       "      <th>1</th>\n",
       "      <td>37</td>\n",
       "      <td>1</td>\n",
       "      <td>2</td>\n",
       "      <td>130</td>\n",
       "      <td>250</td>\n",
       "      <td>0</td>\n",
       "      <td>1</td>\n",
       "      <td>187</td>\n",
       "      <td>0</td>\n",
       "      <td>3.5</td>\n",
       "      <td>0</td>\n",
       "      <td>0</td>\n",
       "      <td>2</td>\n",
       "      <td>1</td>\n",
       "    </tr>\n",
       "    <tr>\n",
       "      <th>2</th>\n",
       "      <td>41</td>\n",
       "      <td>0</td>\n",
       "      <td>1</td>\n",
       "      <td>130</td>\n",
       "      <td>204</td>\n",
       "      <td>0</td>\n",
       "      <td>0</td>\n",
       "      <td>172</td>\n",
       "      <td>0</td>\n",
       "      <td>1.4</td>\n",
       "      <td>2</td>\n",
       "      <td>0</td>\n",
       "      <td>2</td>\n",
       "      <td>1</td>\n",
       "    </tr>\n",
       "    <tr>\n",
       "      <th>3</th>\n",
       "      <td>56</td>\n",
       "      <td>1</td>\n",
       "      <td>1</td>\n",
       "      <td>120</td>\n",
       "      <td>236</td>\n",
       "      <td>0</td>\n",
       "      <td>1</td>\n",
       "      <td>178</td>\n",
       "      <td>0</td>\n",
       "      <td>0.8</td>\n",
       "      <td>2</td>\n",
       "      <td>0</td>\n",
       "      <td>2</td>\n",
       "      <td>1</td>\n",
       "    </tr>\n",
       "    <tr>\n",
       "      <th>4</th>\n",
       "      <td>57</td>\n",
       "      <td>0</td>\n",
       "      <td>0</td>\n",
       "      <td>120</td>\n",
       "      <td>354</td>\n",
       "      <td>0</td>\n",
       "      <td>1</td>\n",
       "      <td>163</td>\n",
       "      <td>1</td>\n",
       "      <td>0.6</td>\n",
       "      <td>2</td>\n",
       "      <td>0</td>\n",
       "      <td>2</td>\n",
       "      <td>1</td>\n",
       "    </tr>\n",
       "  </tbody>\n",
       "</table>\n",
       "</div>"
      ],
      "text/plain": [
       "   age  sex  cp  trestbps  chol  fbs  restecg  thalach  exang  oldpeak  slope  \\\n",
       "0   63    1   3       145   233    1        0      150      0      2.3      0   \n",
       "1   37    1   2       130   250    0        1      187      0      3.5      0   \n",
       "2   41    0   1       130   204    0        0      172      0      1.4      2   \n",
       "3   56    1   1       120   236    0        1      178      0      0.8      2   \n",
       "4   57    0   0       120   354    0        1      163      1      0.6      2   \n",
       "\n",
       "   ca  thal  target  \n",
       "0   0     1       1  \n",
       "1   0     2       1  \n",
       "2   0     2       1  \n",
       "3   0     2       1  \n",
       "4   0     2       1  "
      ]
     },
     "execution_count": 6,
     "metadata": {},
     "output_type": "execute_result"
    }
   ],
   "source": [
    "# Returns the first x number of rows when head(x). Without a number it returns 5\n",
    "df.head()"
   ]
  },
  {
   "cell_type": "code",
   "execution_count": 7,
   "metadata": {
    "ExecuteTime": {
     "end_time": "2023-01-03T05:43:17.392744Z",
     "start_time": "2023-01-03T05:43:17.377793Z"
    }
   },
   "outputs": [
    {
     "data": {
      "text/plain": [
       "58    19\n",
       "57    17\n",
       "54    16\n",
       "59    14\n",
       "52    13\n",
       "51    12\n",
       "62    11\n",
       "60    11\n",
       "44    11\n",
       "56    11\n",
       "64    10\n",
       "41    10\n",
       "63     9\n",
       "67     9\n",
       "65     8\n",
       "43     8\n",
       "45     8\n",
       "55     8\n",
       "42     8\n",
       "61     8\n",
       "53     8\n",
       "46     7\n",
       "48     7\n",
       "66     7\n",
       "50     7\n",
       "49     5\n",
       "47     5\n",
       "70     4\n",
       "39     4\n",
       "35     4\n",
       "68     4\n",
       "38     3\n",
       "71     3\n",
       "40     3\n",
       "69     3\n",
       "34     2\n",
       "37     2\n",
       "29     1\n",
       "74     1\n",
       "76     1\n",
       "77     1\n",
       "Name: age, dtype: int64"
      ]
     },
     "execution_count": 7,
     "metadata": {},
     "output_type": "execute_result"
    }
   ],
   "source": [
    "df[\"age\"].value_counts()"
   ]
  },
  {
   "cell_type": "code",
   "execution_count": 8,
   "metadata": {
    "ExecuteTime": {
     "end_time": "2023-01-03T05:43:17.432111Z",
     "start_time": "2023-01-03T05:43:17.395249Z"
    },
    "colab": {
     "base_uri": "https://localhost:8080/",
     "height": 197
    },
    "colab_type": "code",
    "id": "obCDtwF6UW5r",
    "outputId": "fe7ecea3-7c94-4475-8370-b370d029e72a"
   },
   "outputs": [
    {
     "data": {
      "text/html": [
       "<div>\n",
       "<style scoped>\n",
       "    .dataframe tbody tr th:only-of-type {\n",
       "        vertical-align: middle;\n",
       "    }\n",
       "\n",
       "    .dataframe tbody tr th {\n",
       "        vertical-align: top;\n",
       "    }\n",
       "\n",
       "    .dataframe thead th {\n",
       "        text-align: right;\n",
       "    }\n",
       "</style>\n",
       "<table border=\"1\" class=\"dataframe\">\n",
       "  <thead>\n",
       "    <tr style=\"text-align: right;\">\n",
       "      <th></th>\n",
       "      <th>age</th>\n",
       "      <th>sex</th>\n",
       "      <th>cp</th>\n",
       "      <th>trestbps</th>\n",
       "      <th>chol</th>\n",
       "      <th>fbs</th>\n",
       "      <th>restecg</th>\n",
       "      <th>thalach</th>\n",
       "      <th>exang</th>\n",
       "      <th>oldpeak</th>\n",
       "      <th>slope</th>\n",
       "      <th>ca</th>\n",
       "      <th>thal</th>\n",
       "      <th>target</th>\n",
       "    </tr>\n",
       "  </thead>\n",
       "  <tbody>\n",
       "    <tr>\n",
       "      <th>298</th>\n",
       "      <td>57</td>\n",
       "      <td>0</td>\n",
       "      <td>0</td>\n",
       "      <td>140</td>\n",
       "      <td>241</td>\n",
       "      <td>0</td>\n",
       "      <td>1</td>\n",
       "      <td>123</td>\n",
       "      <td>1</td>\n",
       "      <td>0.2</td>\n",
       "      <td>1</td>\n",
       "      <td>0</td>\n",
       "      <td>3</td>\n",
       "      <td>0</td>\n",
       "    </tr>\n",
       "    <tr>\n",
       "      <th>299</th>\n",
       "      <td>45</td>\n",
       "      <td>1</td>\n",
       "      <td>3</td>\n",
       "      <td>110</td>\n",
       "      <td>264</td>\n",
       "      <td>0</td>\n",
       "      <td>1</td>\n",
       "      <td>132</td>\n",
       "      <td>0</td>\n",
       "      <td>1.2</td>\n",
       "      <td>1</td>\n",
       "      <td>0</td>\n",
       "      <td>3</td>\n",
       "      <td>0</td>\n",
       "    </tr>\n",
       "    <tr>\n",
       "      <th>300</th>\n",
       "      <td>68</td>\n",
       "      <td>1</td>\n",
       "      <td>0</td>\n",
       "      <td>144</td>\n",
       "      <td>193</td>\n",
       "      <td>1</td>\n",
       "      <td>1</td>\n",
       "      <td>141</td>\n",
       "      <td>0</td>\n",
       "      <td>3.4</td>\n",
       "      <td>1</td>\n",
       "      <td>2</td>\n",
       "      <td>3</td>\n",
       "      <td>0</td>\n",
       "    </tr>\n",
       "    <tr>\n",
       "      <th>301</th>\n",
       "      <td>57</td>\n",
       "      <td>1</td>\n",
       "      <td>0</td>\n",
       "      <td>130</td>\n",
       "      <td>131</td>\n",
       "      <td>0</td>\n",
       "      <td>1</td>\n",
       "      <td>115</td>\n",
       "      <td>1</td>\n",
       "      <td>1.2</td>\n",
       "      <td>1</td>\n",
       "      <td>1</td>\n",
       "      <td>3</td>\n",
       "      <td>0</td>\n",
       "    </tr>\n",
       "    <tr>\n",
       "      <th>302</th>\n",
       "      <td>57</td>\n",
       "      <td>0</td>\n",
       "      <td>1</td>\n",
       "      <td>130</td>\n",
       "      <td>236</td>\n",
       "      <td>0</td>\n",
       "      <td>0</td>\n",
       "      <td>174</td>\n",
       "      <td>0</td>\n",
       "      <td>0.0</td>\n",
       "      <td>1</td>\n",
       "      <td>1</td>\n",
       "      <td>2</td>\n",
       "      <td>0</td>\n",
       "    </tr>\n",
       "  </tbody>\n",
       "</table>\n",
       "</div>"
      ],
      "text/plain": [
       "     age  sex  cp  trestbps  chol  fbs  restecg  thalach  exang  oldpeak  \\\n",
       "298   57    0   0       140   241    0        1      123      1      0.2   \n",
       "299   45    1   3       110   264    0        1      132      0      1.2   \n",
       "300   68    1   0       144   193    1        1      141      0      3.4   \n",
       "301   57    1   0       130   131    0        1      115      1      1.2   \n",
       "302   57    0   1       130   236    0        0      174      0      0.0   \n",
       "\n",
       "     slope  ca  thal  target  \n",
       "298      1   0     3       0  \n",
       "299      1   0     3       0  \n",
       "300      1   2     3       0  \n",
       "301      1   1     3       0  \n",
       "302      1   1     2       0  "
      ]
     },
     "execution_count": 8,
     "metadata": {},
     "output_type": "execute_result"
    }
   ],
   "source": [
    "# Returns the last x number of rows when tail(x). Without a number it returns 5\n",
    "df.tail()"
   ]
  },
  {
   "cell_type": "code",
   "execution_count": 9,
   "metadata": {
    "ExecuteTime": {
     "end_time": "2023-01-03T05:43:17.447994Z",
     "start_time": "2023-01-03T05:43:17.432111Z"
    },
    "colab": {
     "base_uri": "https://localhost:8080/",
     "height": 283
    },
    "colab_type": "code",
    "id": "KHyQmvp-UniL",
    "outputId": "26f1f9d2-85d6-41be-c2c8-0c71551044fc"
   },
   "outputs": [
    {
     "data": {
      "text/plain": [
       "age         0\n",
       "sex         0\n",
       "cp          0\n",
       "trestbps    0\n",
       "chol        0\n",
       "fbs         0\n",
       "restecg     0\n",
       "thalach     0\n",
       "exang       0\n",
       "oldpeak     0\n",
       "slope       0\n",
       "ca          0\n",
       "thal        0\n",
       "target      0\n",
       "dtype: int64"
      ]
     },
     "execution_count": 9,
     "metadata": {},
     "output_type": "execute_result"
    }
   ],
   "source": [
    "# Returns true for a column having null values, else false\n",
    "df.isnull().sum()"
   ]
  },
  {
   "cell_type": "code",
   "execution_count": 10,
   "metadata": {
    "ExecuteTime": {
     "end_time": "2023-01-03T05:43:17.479262Z",
     "start_time": "2023-01-03T05:43:17.455544Z"
    },
    "colab": {
     "base_uri": "https://localhost:8080/",
     "height": 390
    },
    "colab_type": "code",
    "id": "VDtNX8xfUauT",
    "outputId": "ea32a38c-1b15-41e5-bc28-ce2672a663d6"
   },
   "outputs": [
    {
     "name": "stdout",
     "output_type": "stream",
     "text": [
      "<class 'pandas.core.frame.DataFrame'>\n",
      "RangeIndex: 303 entries, 0 to 302\n",
      "Data columns (total 14 columns):\n",
      " #   Column    Non-Null Count  Dtype  \n",
      "---  ------    --------------  -----  \n",
      " 0   age       303 non-null    int64  \n",
      " 1   sex       303 non-null    int64  \n",
      " 2   cp        303 non-null    int64  \n",
      " 3   trestbps  303 non-null    int64  \n",
      " 4   chol      303 non-null    int64  \n",
      " 5   fbs       303 non-null    int64  \n",
      " 6   restecg   303 non-null    int64  \n",
      " 7   thalach   303 non-null    int64  \n",
      " 8   exang     303 non-null    int64  \n",
      " 9   oldpeak   303 non-null    float64\n",
      " 10  slope     303 non-null    int64  \n",
      " 11  ca        303 non-null    int64  \n",
      " 12  thal      303 non-null    int64  \n",
      " 13  target    303 non-null    int64  \n",
      "dtypes: float64(1), int64(13)\n",
      "memory usage: 33.3 KB\n"
     ]
    }
   ],
   "source": [
    "# Returns basic information on all columns\n",
    "df.info()"
   ]
  },
  {
   "cell_type": "code",
   "execution_count": 11,
   "metadata": {
    "ExecuteTime": {
     "end_time": "2023-01-03T05:43:17.524707Z",
     "start_time": "2023-01-03T05:43:17.481238Z"
    },
    "colab": {
     "base_uri": "https://localhost:8080/",
     "height": 467
    },
    "colab_type": "code",
    "id": "01LQR7NmUe67",
    "outputId": "f235e330-82e9-408d-9c89-0795a7e2f423"
   },
   "outputs": [
    {
     "data": {
      "text/html": [
       "<div>\n",
       "<style scoped>\n",
       "    .dataframe tbody tr th:only-of-type {\n",
       "        vertical-align: middle;\n",
       "    }\n",
       "\n",
       "    .dataframe tbody tr th {\n",
       "        vertical-align: top;\n",
       "    }\n",
       "\n",
       "    .dataframe thead th {\n",
       "        text-align: right;\n",
       "    }\n",
       "</style>\n",
       "<table border=\"1\" class=\"dataframe\">\n",
       "  <thead>\n",
       "    <tr style=\"text-align: right;\">\n",
       "      <th></th>\n",
       "      <th>count</th>\n",
       "      <th>mean</th>\n",
       "      <th>std</th>\n",
       "      <th>min</th>\n",
       "      <th>25%</th>\n",
       "      <th>50%</th>\n",
       "      <th>75%</th>\n",
       "      <th>max</th>\n",
       "    </tr>\n",
       "  </thead>\n",
       "  <tbody>\n",
       "    <tr>\n",
       "      <th>age</th>\n",
       "      <td>303.0</td>\n",
       "      <td>54.366337</td>\n",
       "      <td>9.082101</td>\n",
       "      <td>29.0</td>\n",
       "      <td>47.5</td>\n",
       "      <td>55.0</td>\n",
       "      <td>61.0</td>\n",
       "      <td>77.0</td>\n",
       "    </tr>\n",
       "    <tr>\n",
       "      <th>sex</th>\n",
       "      <td>303.0</td>\n",
       "      <td>0.683168</td>\n",
       "      <td>0.466011</td>\n",
       "      <td>0.0</td>\n",
       "      <td>0.0</td>\n",
       "      <td>1.0</td>\n",
       "      <td>1.0</td>\n",
       "      <td>1.0</td>\n",
       "    </tr>\n",
       "    <tr>\n",
       "      <th>cp</th>\n",
       "      <td>303.0</td>\n",
       "      <td>0.966997</td>\n",
       "      <td>1.032052</td>\n",
       "      <td>0.0</td>\n",
       "      <td>0.0</td>\n",
       "      <td>1.0</td>\n",
       "      <td>2.0</td>\n",
       "      <td>3.0</td>\n",
       "    </tr>\n",
       "    <tr>\n",
       "      <th>trestbps</th>\n",
       "      <td>303.0</td>\n",
       "      <td>131.623762</td>\n",
       "      <td>17.538143</td>\n",
       "      <td>94.0</td>\n",
       "      <td>120.0</td>\n",
       "      <td>130.0</td>\n",
       "      <td>140.0</td>\n",
       "      <td>200.0</td>\n",
       "    </tr>\n",
       "    <tr>\n",
       "      <th>chol</th>\n",
       "      <td>303.0</td>\n",
       "      <td>246.264026</td>\n",
       "      <td>51.830751</td>\n",
       "      <td>126.0</td>\n",
       "      <td>211.0</td>\n",
       "      <td>240.0</td>\n",
       "      <td>274.5</td>\n",
       "      <td>564.0</td>\n",
       "    </tr>\n",
       "    <tr>\n",
       "      <th>fbs</th>\n",
       "      <td>303.0</td>\n",
       "      <td>0.148515</td>\n",
       "      <td>0.356198</td>\n",
       "      <td>0.0</td>\n",
       "      <td>0.0</td>\n",
       "      <td>0.0</td>\n",
       "      <td>0.0</td>\n",
       "      <td>1.0</td>\n",
       "    </tr>\n",
       "    <tr>\n",
       "      <th>restecg</th>\n",
       "      <td>303.0</td>\n",
       "      <td>0.528053</td>\n",
       "      <td>0.525860</td>\n",
       "      <td>0.0</td>\n",
       "      <td>0.0</td>\n",
       "      <td>1.0</td>\n",
       "      <td>1.0</td>\n",
       "      <td>2.0</td>\n",
       "    </tr>\n",
       "    <tr>\n",
       "      <th>thalach</th>\n",
       "      <td>303.0</td>\n",
       "      <td>149.646865</td>\n",
       "      <td>22.905161</td>\n",
       "      <td>71.0</td>\n",
       "      <td>133.5</td>\n",
       "      <td>153.0</td>\n",
       "      <td>166.0</td>\n",
       "      <td>202.0</td>\n",
       "    </tr>\n",
       "    <tr>\n",
       "      <th>exang</th>\n",
       "      <td>303.0</td>\n",
       "      <td>0.326733</td>\n",
       "      <td>0.469794</td>\n",
       "      <td>0.0</td>\n",
       "      <td>0.0</td>\n",
       "      <td>0.0</td>\n",
       "      <td>1.0</td>\n",
       "      <td>1.0</td>\n",
       "    </tr>\n",
       "    <tr>\n",
       "      <th>oldpeak</th>\n",
       "      <td>303.0</td>\n",
       "      <td>1.039604</td>\n",
       "      <td>1.161075</td>\n",
       "      <td>0.0</td>\n",
       "      <td>0.0</td>\n",
       "      <td>0.8</td>\n",
       "      <td>1.6</td>\n",
       "      <td>6.2</td>\n",
       "    </tr>\n",
       "    <tr>\n",
       "      <th>slope</th>\n",
       "      <td>303.0</td>\n",
       "      <td>1.399340</td>\n",
       "      <td>0.616226</td>\n",
       "      <td>0.0</td>\n",
       "      <td>1.0</td>\n",
       "      <td>1.0</td>\n",
       "      <td>2.0</td>\n",
       "      <td>2.0</td>\n",
       "    </tr>\n",
       "    <tr>\n",
       "      <th>ca</th>\n",
       "      <td>303.0</td>\n",
       "      <td>0.729373</td>\n",
       "      <td>1.022606</td>\n",
       "      <td>0.0</td>\n",
       "      <td>0.0</td>\n",
       "      <td>0.0</td>\n",
       "      <td>1.0</td>\n",
       "      <td>4.0</td>\n",
       "    </tr>\n",
       "    <tr>\n",
       "      <th>thal</th>\n",
       "      <td>303.0</td>\n",
       "      <td>2.313531</td>\n",
       "      <td>0.612277</td>\n",
       "      <td>0.0</td>\n",
       "      <td>2.0</td>\n",
       "      <td>2.0</td>\n",
       "      <td>3.0</td>\n",
       "      <td>3.0</td>\n",
       "    </tr>\n",
       "    <tr>\n",
       "      <th>target</th>\n",
       "      <td>303.0</td>\n",
       "      <td>0.544554</td>\n",
       "      <td>0.498835</td>\n",
       "      <td>0.0</td>\n",
       "      <td>0.0</td>\n",
       "      <td>1.0</td>\n",
       "      <td>1.0</td>\n",
       "      <td>1.0</td>\n",
       "    </tr>\n",
       "  </tbody>\n",
       "</table>\n",
       "</div>"
      ],
      "text/plain": [
       "          count        mean        std    min    25%    50%    75%    max\n",
       "age       303.0   54.366337   9.082101   29.0   47.5   55.0   61.0   77.0\n",
       "sex       303.0    0.683168   0.466011    0.0    0.0    1.0    1.0    1.0\n",
       "cp        303.0    0.966997   1.032052    0.0    0.0    1.0    2.0    3.0\n",
       "trestbps  303.0  131.623762  17.538143   94.0  120.0  130.0  140.0  200.0\n",
       "chol      303.0  246.264026  51.830751  126.0  211.0  240.0  274.5  564.0\n",
       "fbs       303.0    0.148515   0.356198    0.0    0.0    0.0    0.0    1.0\n",
       "restecg   303.0    0.528053   0.525860    0.0    0.0    1.0    1.0    2.0\n",
       "thalach   303.0  149.646865  22.905161   71.0  133.5  153.0  166.0  202.0\n",
       "exang     303.0    0.326733   0.469794    0.0    0.0    0.0    1.0    1.0\n",
       "oldpeak   303.0    1.039604   1.161075    0.0    0.0    0.8    1.6    6.2\n",
       "slope     303.0    1.399340   0.616226    0.0    1.0    1.0    2.0    2.0\n",
       "ca        303.0    0.729373   1.022606    0.0    0.0    0.0    1.0    4.0\n",
       "thal      303.0    2.313531   0.612277    0.0    2.0    2.0    3.0    3.0\n",
       "target    303.0    0.544554   0.498835    0.0    0.0    1.0    1.0    1.0"
      ]
     },
     "execution_count": 11,
     "metadata": {},
     "output_type": "execute_result"
    }
   ],
   "source": [
    "# Returns basic statistics on numeric columns\n",
    "df.describe().T"
   ]
  },
  {
   "cell_type": "markdown",
   "metadata": {
    "colab_type": "text",
    "id": "cVlUJwidVjLr"
   },
   "source": [
    "# **Data Visualization**"
   ]
  },
  {
   "cell_type": "code",
   "execution_count": 12,
   "metadata": {
    "ExecuteTime": {
     "end_time": "2023-01-03T05:43:18.581687Z",
     "start_time": "2023-01-03T05:43:17.524707Z"
    },
    "colab": {},
    "colab_type": "code",
    "id": "eBqQ2CkTWBlj"
   },
   "outputs": [],
   "source": [
    "# Importing essential libraries\n",
    "import matplotlib.pyplot as plt\n",
    "%matplotlib inline\n",
    "import seaborn as sns"
   ]
  },
  {
   "cell_type": "markdown",
   "metadata": {},
   "source": [
    "# Plotting graphs"
   ]
  },
  {
   "cell_type": "code",
   "execution_count": 13,
   "metadata": {
    "ExecuteTime": {
     "end_time": "2023-01-03T05:43:19.762902Z",
     "start_time": "2023-01-03T05:43:18.587685Z"
    },
    "colab": {
     "base_uri": "https://localhost:8080/",
     "height": 0
    },
    "colab_type": "code",
    "id": "EMtmzTXUVp37",
    "outputId": "62cd0d7f-408d-417a-bdea-c3ee30ff0e38"
   },
   "outputs": [
    {
     "name": "stderr",
     "output_type": "stream",
     "text": [
      "C:\\Users\\nirma\\AppData\\Local\\Temp\\ipykernel_25928\\1536943719.py:4: UserWarning: To output multiple subplots, the figure containing the passed axes is being cleared.\n",
      "  g = df.hist(ax=ax)\n"
     ]
    },
    {
     "data": {
      "image/png": "[encoded data removed]",
      "text/plain": [
       "<Figure size 720x1080 with 16 Axes>"
      ]
     },
     "metadata": {
      "needs_background": "light"
     },
     "output_type": "display_data"
    }
   ],
   "source": [
    "# Plotting histogram for the entire dataset\n",
    "fig = plt.figure(figsize = (10,15))\n",
    "ax = fig.gca()\n",
    "g = df.hist(ax=ax)"
   ]
  },
  {
   "cell_type": "code",
   "execution_count": 14,
   "metadata": {
    "ExecuteTime": {
     "end_time": "2023-01-03T05:43:19.862049Z",
     "start_time": "2023-01-03T05:43:19.765606Z"
    },
    "colab": {
     "base_uri": "https://localhost:8080/",
     "height": 0
    },
    "colab_type": "code",
    "id": "hMpcT5VsWtGP",
    "outputId": "647aa5e5-f26f-43f8-f36a-cc029d930c82"
   },
   "outputs": [
    {
     "data": {
      "text/plain": [
       "Text(0, 0.5, 'Count')"
      ]
     },
     "execution_count": 14,
     "metadata": {},
     "output_type": "execute_result"
    },
    {
     "data": {
      "image/png": "[encoded data removed]",
      "text/plain": [
       "<Figure size 432x288 with 1 Axes>"
      ]
     },
     "metadata": {
      "needs_background": "light"
     },
     "output_type": "display_data"
    }
   ],
   "source": [
    "# Visualization to check if the dataset is balanced or not\n",
    "g = sns.countplot(x='target', data=df)\n",
    "plt.xlabel('target')\n",
    "plt.ylabel('Count')"
   ]
  },
  {
   "cell_type": "code",
   "execution_count": 15,
   "metadata": {
    "ExecuteTime": {
     "end_time": "2023-01-03T05:43:20.022948Z",
     "start_time": "2023-01-03T05:43:19.865024Z"
    }
   },
   "outputs": [
    {
     "data": {
      "text/plain": [
       "<AxesSubplot:ylabel='sex'>"
      ]
     },
     "execution_count": 15,
     "metadata": {},
     "output_type": "execute_result"
    },
    {
     "data": {
      "image/png": "[encoded data removed]",
      "text/plain": [
       "<Figure size 432x288 with 1 Axes>"
      ]
     },
     "metadata": {},
     "output_type": "display_data"
    }
   ],
   "source": [
    "df['sex'].value_counts().plot(kind='pie',autopct='%.2f')"
   ]
  },
  {
   "cell_type": "markdown",
   "metadata": {
    "colab_type": "text",
    "id": "7xYk6MvkVH_b"
   },
   "source": [
    "# **Feature Engineering**"
   ]
  },
  {
   "cell_type": "markdown",
   "metadata": {
    "colab_type": "text",
    "id": "iDJlzXOTVLvD"
   },
   "source": [
    "### Feature Selection"
   ]
  },
  {
   "cell_type": "code",
   "execution_count": 16,
   "metadata": {
    "ExecuteTime": {
     "end_time": "2023-01-03T05:43:20.727327Z",
     "start_time": "2023-01-03T05:43:20.024950Z"
    },
    "colab": {
     "base_uri": "https://localhost:8080/",
     "height": 1000
    },
    "colab_type": "code",
    "id": "CJr1KF-2VLHM",
    "outputId": "584775fb-1543-4e67-f967-cc11d2dcc397"
   },
   "outputs": [
    {
     "data": {
      "text/plain": [
       "<AxesSubplot:>"
      ]
     },
     "execution_count": 16,
     "metadata": {},
     "output_type": "execute_result"
    },
    {
     "data": {
      "image/png": "[encoded data removed]",
      "text/plain": [
       "<Figure size 720x720 with 2 Axes>"
      ]
     },
     "metadata": {
      "needs_background": "light"
     },
     "output_type": "display_data"
    }
   ],
   "source": [
    "# Selecting correlated features using Heatmap\n",
    "\n",
    "# Get correlation of all the features of the dataset\n",
    "corr_matrix = df.corr()\n",
    "top_corr_features = corr_matrix.index\n",
    "\n",
    "# Plotting the heatmap\n",
    "plt.figure(figsize=(10,10))\n",
    "sns.heatmap(data=df[top_corr_features].corr(), annot=True, cmap='RdYlGn')"
   ]
  },
  {
   "cell_type": "markdown",
   "metadata": {
    "colab_type": "text",
    "id": "j1bd0Qd7adPW"
   },
   "source": [
    "# **Data Preprocessing**"
   ]
  },
  {
   "cell_type": "markdown",
   "metadata": {
    "colab_type": "text",
    "id": "-Eba0WwwclFj"
   },
   "source": [
    "## Feature Scaling"
   ]
  },
  {
   "cell_type": "code",
   "execution_count": 20,
   "metadata": {
    "ExecuteTime": {
     "end_time": "2023-01-03T05:43:20.741999Z",
     "start_time": "2023-01-03T05:43:20.729328Z"
    },
    "colab": {},
    "colab_type": "code",
    "id": "ordVXCj7gMwb"
   },
   "outputs": [],
   "source": [
    "# Splitting the dataset into dependent and independent features\n",
    "X = df.drop('target', axis=1)\n",
    "y = df['target']"
   ]
  },
  {
   "cell_type": "code",
   "execution_count": 21,
   "metadata": {
    "ExecuteTime": {
     "end_time": "2023-01-03T05:43:20.959274Z",
     "start_time": "2023-01-03T05:43:20.743915Z"
    }
   },
   "outputs": [],
   "source": [
    "from imblearn import over_sampling \n",
    "from imblearn.over_sampling import SMOTE\n",
    "from collections import Counter"
   ]
  },
  {
   "cell_type": "code",
   "execution_count": 22,
   "metadata": {
    "ExecuteTime": {
     "end_time": "2023-01-03T05:43:20.975181Z",
     "start_time": "2023-01-03T05:43:20.962182Z"
    }
   },
   "outputs": [
    {
     "name": "stdout",
     "output_type": "stream",
     "text": [
      "[(0, 165), (1, 165)] (330,)\n"
     ]
    }
   ],
   "source": [
    "ROS = SMOTE()\n",
    "X_resampled , y_resampled = ROS.fit_resample(X,y)\n",
    "# df['target'].value_counts()\n",
    "print(sorted(Counter(y_resampled).items()),y_resampled.shape)"
   ]
  },
  {
   "cell_type": "code",
   "execution_count": 23,
   "metadata": {
    "ExecuteTime": {
     "end_time": "2023-01-03T05:43:20.991288Z",
     "start_time": "2023-01-03T05:43:20.979272Z"
    },
    "scrolled": true
   },
   "outputs": [
    {
     "data": {
      "text/html": [
       "<div>\n",
       "<style scoped>\n",
       "    .dataframe tbody tr th:only-of-type {\n",
       "        vertical-align: middle;\n",
       "    }\n",
       "\n",
       "    .dataframe tbody tr th {\n",
       "        vertical-align: top;\n",
       "    }\n",
       "\n",
       "    .dataframe thead th {\n",
       "        text-align: right;\n",
       "    }\n",
       "</style>\n",
       "<table border=\"1\" class=\"dataframe\">\n",
       "  <thead>\n",
       "    <tr style=\"text-align: right;\">\n",
       "      <th></th>\n",
       "      <th>age</th>\n",
       "      <th>sex</th>\n",
       "      <th>cp</th>\n",
       "      <th>trestbps</th>\n",
       "      <th>chol</th>\n",
       "      <th>fbs</th>\n",
       "      <th>restecg</th>\n",
       "      <th>thalach</th>\n",
       "      <th>exang</th>\n",
       "      <th>oldpeak</th>\n",
       "      <th>slope</th>\n",
       "      <th>ca</th>\n",
       "      <th>thal</th>\n",
       "    </tr>\n",
       "  </thead>\n",
       "  <tbody>\n",
       "    <tr>\n",
       "      <th>0</th>\n",
       "      <td>63</td>\n",
       "      <td>1</td>\n",
       "      <td>3</td>\n",
       "      <td>145</td>\n",
       "      <td>233</td>\n",
       "      <td>1</td>\n",
       "      <td>0</td>\n",
       "      <td>150</td>\n",
       "      <td>0</td>\n",
       "      <td>2.3</td>\n",
       "      <td>0</td>\n",
       "      <td>0</td>\n",
       "      <td>1</td>\n",
       "    </tr>\n",
       "    <tr>\n",
       "      <th>1</th>\n",
       "      <td>37</td>\n",
       "      <td>1</td>\n",
       "      <td>2</td>\n",
       "      <td>130</td>\n",
       "      <td>250</td>\n",
       "      <td>0</td>\n",
       "      <td>1</td>\n",
       "      <td>187</td>\n",
       "      <td>0</td>\n",
       "      <td>3.5</td>\n",
       "      <td>0</td>\n",
       "      <td>0</td>\n",
       "      <td>2</td>\n",
       "    </tr>\n",
       "    <tr>\n",
       "      <th>2</th>\n",
       "      <td>41</td>\n",
       "      <td>0</td>\n",
       "      <td>1</td>\n",
       "      <td>130</td>\n",
       "      <td>204</td>\n",
       "      <td>0</td>\n",
       "      <td>0</td>\n",
       "      <td>172</td>\n",
       "      <td>0</td>\n",
       "      <td>1.4</td>\n",
       "      <td>2</td>\n",
       "      <td>0</td>\n",
       "      <td>2</td>\n",
       "    </tr>\n",
       "    <tr>\n",
       "      <th>3</th>\n",
       "      <td>56</td>\n",
       "      <td>1</td>\n",
       "      <td>1</td>\n",
       "      <td>120</td>\n",
       "      <td>236</td>\n",
       "      <td>0</td>\n",
       "      <td>1</td>\n",
       "      <td>178</td>\n",
       "      <td>0</td>\n",
       "      <td>0.8</td>\n",
       "      <td>2</td>\n",
       "      <td>0</td>\n",
       "      <td>2</td>\n",
       "    </tr>\n",
       "    <tr>\n",
       "      <th>4</th>\n",
       "      <td>57</td>\n",
       "      <td>0</td>\n",
       "      <td>0</td>\n",
       "      <td>120</td>\n",
       "      <td>354</td>\n",
       "      <td>0</td>\n",
       "      <td>1</td>\n",
       "      <td>163</td>\n",
       "      <td>1</td>\n",
       "      <td>0.6</td>\n",
       "      <td>2</td>\n",
       "      <td>0</td>\n",
       "      <td>2</td>\n",
       "    </tr>\n",
       "  </tbody>\n",
       "</table>\n",
       "</div>"
      ],
      "text/plain": [
       "   age  sex  cp  trestbps  chol  fbs  restecg  thalach  exang  oldpeak  slope  \\\n",
       "0   63    1   3       145   233    1        0      150      0      2.3      0   \n",
       "1   37    1   2       130   250    0        1      187      0      3.5      0   \n",
       "2   41    0   1       130   204    0        0      172      0      1.4      2   \n",
       "3   56    1   1       120   236    0        1      178      0      0.8      2   \n",
       "4   57    0   0       120   354    0        1      163      1      0.6      2   \n",
       "\n",
       "   ca  thal  \n",
       "0   0     1  \n",
       "1   0     2  \n",
       "2   0     2  \n",
       "3   0     2  \n",
       "4   0     2  "
      ]
     },
     "execution_count": 23,
     "metadata": {},
     "output_type": "execute_result"
    }
   ],
   "source": [
    "X_resampled.head()"
   ]
  },
  {
   "cell_type": "markdown",
   "metadata": {},
   "source": [
    "# Standard Scalar"
   ]
  },
  {
   "cell_type": "code",
   "execution_count": 24,
   "metadata": {
    "ExecuteTime": {
     "end_time": "2023-01-03T05:43:21.007194Z",
     "start_time": "2023-01-03T05:43:20.994680Z"
    }
   },
   "outputs": [],
   "source": [
    "from sklearn.model_selection import train_test_split\n",
    "X_train, X_test, y_train, y_test = train_test_split(X_resampled, y_resampled, test_size=0.2, random_state=2)"
   ]
  },
  {
   "cell_type": "code",
   "execution_count": 25,
   "metadata": {
    "ExecuteTime": {
     "end_time": "2023-01-03T05:43:21.021973Z",
     "start_time": "2023-01-03T05:43:21.009195Z"
    }
   },
   "outputs": [],
   "source": [
    "from sklearn.preprocessing import StandardScaler\n",
    "\n",
    "scaler = StandardScaler()\n",
    "\n",
    "# fit the scaler to the train set, it will learn the parameters\n",
    "scaler.fit(X_train)\n",
    "\n",
    "# transform train and test sets\n",
    "X_train_scaled = scaler.transform(X_train)\n",
    "X_test_scaled = scaler.transform(X_test)"
   ]
  },
  {
   "cell_type": "code",
   "execution_count": 26,
   "metadata": {
    "ExecuteTime": {
     "end_time": "2023-01-03T05:43:21.037291Z",
     "start_time": "2023-01-03T05:43:21.025010Z"
    }
   },
   "outputs": [
    {
     "data": {
      "text/plain": [
       "array([[ 0.4969551 ,  0.65938047, -0.88415083, ...,  1.02359985,\n",
       "         0.2821244 ,  1.09559066],\n",
       "       [ 1.87073672, -1.51657509,  1.02909359, ...,  1.02359985,\n",
       "         0.2821244 , -0.49361777],\n",
       "       [-0.87682653,  0.65938047, -0.88415083, ...,  1.02359985,\n",
       "        -0.71095348, -0.49361777],\n",
       "       ...,\n",
       "       [-2.93749897,  0.65938047,  0.07247138, ...,  1.02359985,\n",
       "        -0.71095348, -0.49361777],\n",
       "       [-0.53338112, -1.51657509,  1.02909359, ..., -0.60429389,\n",
       "        -0.71095348, -0.49361777],\n",
       "       [ 0.9548823 ,  0.65938047, -0.88415083, ..., -0.60429389,\n",
       "         0.2821244 ,  1.09559066]])"
      ]
     },
     "execution_count": 26,
     "metadata": {},
     "output_type": "execute_result"
    }
   ],
   "source": [
    "X_train_scaled"
   ]
  },
  {
   "cell_type": "code",
   "execution_count": 27,
   "metadata": {
    "ExecuteTime": {
     "end_time": "2023-01-03T05:43:21.052504Z",
     "start_time": "2023-01-03T05:43:21.041709Z"
    }
   },
   "outputs": [],
   "source": [
    "# converting the Scaled data to dataframe because it will give np arrays as output\n",
    "X_train_scaled = pd.DataFrame(X_train_scaled, columns=X_train.columns)\n",
    "X_test_scaled = pd.DataFrame(X_test_scaled, columns=X_test.columns)"
   ]
  },
  {
   "cell_type": "code",
   "execution_count": 28,
   "metadata": {
    "ExecuteTime": {
     "end_time": "2023-01-03T05:43:21.083119Z",
     "start_time": "2023-01-03T05:43:21.055701Z"
    }
   },
   "outputs": [
    {
     "data": {
      "text/html": [
       "<div>\n",
       "<style scoped>\n",
       "    .dataframe tbody tr th:only-of-type {\n",
       "        vertical-align: middle;\n",
       "    }\n",
       "\n",
       "    .dataframe tbody tr th {\n",
       "        vertical-align: top;\n",
       "    }\n",
       "\n",
       "    .dataframe thead th {\n",
       "        text-align: right;\n",
       "    }\n",
       "</style>\n",
       "<table border=\"1\" class=\"dataframe\">\n",
       "  <thead>\n",
       "    <tr style=\"text-align: right;\">\n",
       "      <th></th>\n",
       "      <th>age</th>\n",
       "      <th>sex</th>\n",
       "      <th>cp</th>\n",
       "      <th>trestbps</th>\n",
       "      <th>chol</th>\n",
       "      <th>fbs</th>\n",
       "      <th>restecg</th>\n",
       "      <th>thalach</th>\n",
       "      <th>exang</th>\n",
       "      <th>oldpeak</th>\n",
       "      <th>slope</th>\n",
       "      <th>ca</th>\n",
       "      <th>thal</th>\n",
       "    </tr>\n",
       "  </thead>\n",
       "  <tbody>\n",
       "    <tr>\n",
       "      <th>0</th>\n",
       "      <td>0.496955</td>\n",
       "      <td>0.659380</td>\n",
       "      <td>-0.884151</td>\n",
       "      <td>0.453389</td>\n",
       "      <td>-1.362066</td>\n",
       "      <td>-0.416333</td>\n",
       "      <td>0.943020</td>\n",
       "      <td>0.576721</td>\n",
       "      <td>1.402245</td>\n",
       "      <td>-0.922406</td>\n",
       "      <td>1.023600</td>\n",
       "      <td>0.282124</td>\n",
       "      <td>1.095591</td>\n",
       "    </tr>\n",
       "    <tr>\n",
       "      <th>1</th>\n",
       "      <td>1.870737</td>\n",
       "      <td>-1.516575</td>\n",
       "      <td>1.029094</td>\n",
       "      <td>-1.288048</td>\n",
       "      <td>0.301456</td>\n",
       "      <td>2.401922</td>\n",
       "      <td>-0.972036</td>\n",
       "      <td>-0.811352</td>\n",
       "      <td>-0.713142</td>\n",
       "      <td>-0.922406</td>\n",
       "      <td>1.023600</td>\n",
       "      <td>0.282124</td>\n",
       "      <td>-0.493618</td>\n",
       "    </tr>\n",
       "    <tr>\n",
       "      <th>2</th>\n",
       "      <td>-0.876827</td>\n",
       "      <td>0.659380</td>\n",
       "      <td>-0.884151</td>\n",
       "      <td>-1.171952</td>\n",
       "      <td>-0.851667</td>\n",
       "      <td>-0.416333</td>\n",
       "      <td>0.943020</td>\n",
       "      <td>-0.247448</td>\n",
       "      <td>-0.713142</td>\n",
       "      <td>-0.839020</td>\n",
       "      <td>1.023600</td>\n",
       "      <td>-0.710953</td>\n",
       "      <td>-0.493618</td>\n",
       "    </tr>\n",
       "    <tr>\n",
       "      <th>3</th>\n",
       "      <td>0.954882</td>\n",
       "      <td>-1.516575</td>\n",
       "      <td>-0.884151</td>\n",
       "      <td>-0.475377</td>\n",
       "      <td>-0.983993</td>\n",
       "      <td>-0.416333</td>\n",
       "      <td>0.943020</td>\n",
       "      <td>-0.551089</td>\n",
       "      <td>1.402245</td>\n",
       "      <td>-0.922406</td>\n",
       "      <td>-0.604294</td>\n",
       "      <td>-0.710953</td>\n",
       "      <td>-0.493618</td>\n",
       "    </tr>\n",
       "    <tr>\n",
       "      <th>4</th>\n",
       "      <td>-1.334754</td>\n",
       "      <td>0.659380</td>\n",
       "      <td>-0.884151</td>\n",
       "      <td>-0.010994</td>\n",
       "      <td>-0.038810</td>\n",
       "      <td>2.401922</td>\n",
       "      <td>-0.972036</td>\n",
       "      <td>-0.247448</td>\n",
       "      <td>1.402245</td>\n",
       "      <td>-0.839020</td>\n",
       "      <td>-0.604294</td>\n",
       "      <td>3.261358</td>\n",
       "      <td>1.095591</td>\n",
       "    </tr>\n",
       "  </tbody>\n",
       "</table>\n",
       "</div>"
      ],
      "text/plain": [
       "        age       sex        cp  trestbps      chol       fbs   restecg  \\\n",
       "0  0.496955  0.659380 -0.884151  0.453389 -1.362066 -0.416333  0.943020   \n",
       "1  1.870737 -1.516575  1.029094 -1.288048  0.301456  2.401922 -0.972036   \n",
       "2 -0.876827  0.659380 -0.884151 -1.171952 -0.851667 -0.416333  0.943020   \n",
       "3  0.954882 -1.516575 -0.884151 -0.475377 -0.983993 -0.416333  0.943020   \n",
       "4 -1.334754  0.659380 -0.884151 -0.010994 -0.038810  2.401922 -0.972036   \n",
       "\n",
       "    thalach     exang   oldpeak     slope        ca      thal  \n",
       "0  0.576721  1.402245 -0.922406  1.023600  0.282124  1.095591  \n",
       "1 -0.811352 -0.713142 -0.922406  1.023600  0.282124 -0.493618  \n",
       "2 -0.247448 -0.713142 -0.839020  1.023600 -0.710953 -0.493618  \n",
       "3 -0.551089  1.402245 -0.922406 -0.604294 -0.710953 -0.493618  \n",
       "4 -0.247448  1.402245 -0.839020 -0.604294  3.261358  1.095591  "
      ]
     },
     "execution_count": 28,
     "metadata": {},
     "output_type": "execute_result"
    }
   ],
   "source": [
    "X_train_scaled.head()"
   ]
  },
  {
   "cell_type": "code",
   "execution_count": 29,
   "metadata": {
    "ExecuteTime": {
     "end_time": "2023-01-03T05:43:21.314282Z",
     "start_time": "2023-01-03T05:43:21.086896Z"
    }
   },
   "outputs": [
    {
     "data": {
      "image/png": "[encoded data removed]",
      "text/plain": [
       "<Figure size 864x360 with 2 Axes>"
      ]
     },
     "metadata": {
      "needs_background": "light"
     },
     "output_type": "display_data"
    }
   ],
   "source": [
    "fig, (ax1, ax2) = plt.subplots(ncols=2, figsize=(12, 5))\n",
    "\n",
    "ax1.scatter(X_train, X_train)\n",
    "ax1.set_title(\"Before Scaling\")\n",
    "ax2.scatter(X_train_scaled, X_train_scaled,color='red')\n",
    "ax2.set_title(\"After Scaling\")\n",
    "plt.show()\n",
    "\n",
    "\n",
    "# below we can observe that the origin has changed after scaling "
   ]
  },
  {
   "cell_type": "markdown",
   "metadata": {
    "colab_type": "text",
    "id": "bm53VwAcgnUa"
   },
   "source": [
    "# Model Building\n",
    "\n"
   ]
  },
  {
   "cell_type": "markdown",
   "metadata": {},
   "source": [
    "# LOGISTIC REGRESSION"
   ]
  },
  {
   "cell_type": "code",
   "execution_count": 30,
   "metadata": {},
   "outputs": [],
   "source": [
    "from sklearn.linear_model import LogisticRegression\n",
    "LR = LogisticRegression()"
   ]
  },
  {
   "cell_type": "code",
   "execution_count": 31,
   "metadata": {},
   "outputs": [
    {
     "data": {
      "text/plain": [
       "LogisticRegression()"
      ]
     },
     "execution_count": 31,
     "metadata": {},
     "output_type": "execute_result"
    }
   ],
   "source": [
    "LR.fit(X_train_scaled,y_train)"
   ]
  },
  {
   "cell_type": "code",
   "execution_count": 32,
   "metadata": {},
   "outputs": [],
   "source": [
    "Y_pred = LR.predict(X_test_scaled)"
   ]
  },
  {
   "cell_type": "code",
   "execution_count": 33,
   "metadata": {},
   "outputs": [
    {
     "data": {
      "text/plain": [
       "(66,)"
      ]
     },
     "execution_count": 33,
     "metadata": {},
     "output_type": "execute_result"
    }
   ],
   "source": [
    "Y_pred.shape"
   ]
  },
  {
   "cell_type": "code",
   "execution_count": 34,
   "metadata": {},
   "outputs": [
    {
     "name": "stdout",
     "output_type": "stream",
     "text": [
      "Model Score for train data 85.60606060606061\n"
     ]
    }
   ],
   "source": [
    "Train_data_score = LR.score(X_train_scaled,y_train)*100\n",
    "print(\"Model Score for train data\",Train_data_score)"
   ]
  },
  {
   "cell_type": "code",
   "execution_count": 35,
   "metadata": {},
   "outputs": [
    {
     "name": "stdout",
     "output_type": "stream",
     "text": [
      "score is: 39.33823529411764\n"
     ]
    }
   ],
   "source": [
    "from sklearn.metrics import r2_score\n",
    "score=r2_score(y_test,Y_pred)*100\n",
    "print(\"score is:\",score)"
   ]
  },
  {
   "cell_type": "markdown",
   "metadata": {},
   "source": [
    "# Decision Tree Classifier"
   ]
  },
  {
   "cell_type": "code",
   "execution_count": 36,
   "metadata": {},
   "outputs": [
    {
     "data": {
      "text/plain": [
       "DecisionTreeClassifier()"
      ]
     },
     "execution_count": 36,
     "metadata": {},
     "output_type": "execute_result"
    }
   ],
   "source": [
    "from sklearn.tree import DecisionTreeClassifier\n",
    "DTR = DecisionTreeClassifier()\n",
    "DTR.fit(X_train,y_train)"
   ]
  },
  {
   "cell_type": "code",
   "execution_count": 37,
   "metadata": {},
   "outputs": [],
   "source": [
    "Y_pred = DTR.predict(X_test)"
   ]
  },
  {
   "cell_type": "code",
   "execution_count": 38,
   "metadata": {},
   "outputs": [
    {
     "data": {
      "text/plain": [
       "(66,)"
      ]
     },
     "execution_count": 38,
     "metadata": {},
     "output_type": "execute_result"
    }
   ],
   "source": [
    "Y_pred.shape"
   ]
  },
  {
   "cell_type": "code",
   "execution_count": 39,
   "metadata": {},
   "outputs": [
    {
     "name": "stdout",
     "output_type": "stream",
     "text": [
      "Model Score for train data 100.0\n"
     ]
    }
   ],
   "source": [
    "Train_data_score = DTR.score(X_train,y_train)*100\n",
    "print(\"Model Score for train data\",Train_data_score)"
   ]
  },
  {
   "cell_type": "code",
   "execution_count": 40,
   "metadata": {},
   "outputs": [
    {
     "name": "stdout",
     "output_type": "stream",
     "text": [
      "score is: 21.139705882352942\n"
     ]
    }
   ],
   "source": [
    "from sklearn.metrics import r2_score\n",
    "score=r2_score(y_test,Y_pred)*100\n",
    "print(\"score is:\",score)"
   ]
  },
  {
   "cell_type": "markdown",
   "metadata": {},
   "source": [
    "# Hyper parameter Tuning"
   ]
  },
  {
   "cell_type": "code",
   "execution_count": 41,
   "metadata": {},
   "outputs": [],
   "source": [
    "from sklearn.model_selection import GridSearchCV\n"
   ]
  },
  {
   "cell_type": "code",
   "execution_count": 42,
   "metadata": {},
   "outputs": [],
   "source": [
    "param_grid = {\n",
    "    'max_depth':[8,10,12,14,None],\n",
    "    'criterion':['gini', 'entropy', 'log_loss'],\n",
    "    'splitter':['best','random'],\n",
    "    'min_samples_split':[200,400,600,800,1000,1200],\n",
    "    'max_leaf_nodes':[10,20,30,40,50]\n",
    "}"
   ]
  },
  {
   "cell_type": "code",
   "execution_count": 43,
   "metadata": {},
   "outputs": [],
   "source": [
    "grid = GridSearchCV(DecisionTreeClassifier (),param_grid=param_grid,cv=5)"
   ]
  },
  {
   "cell_type": "code",
   "execution_count": 44,
   "metadata": {},
   "outputs": [
    {
     "name": "stderr",
     "output_type": "stream",
     "text": [
      "C:\\Users\\nirma\\anaconda3\\lib\\site-packages\\sklearn\\model_selection\\_validation.py:372: FitFailedWarning: \n",
      "1500 fits failed out of a total of 4500.\n",
      "The score on these train-test partitions for these parameters will be set to nan.\n",
      "If these failures are not expected, you can try to debug them by setting error_score='raise'.\n",
      "\n",
      "Below are more details about the failures:\n",
      "--------------------------------------------------------------------------------\n",
      "1500 fits failed with the following error:\n",
      "Traceback (most recent call last):\n",
      "  File \"C:\\Users\\nirma\\anaconda3\\lib\\site-packages\\sklearn\\model_selection\\_validation.py\", line 680, in _fit_and_score\n",
      "    estimator.fit(X_train, y_train, **fit_params)\n",
      "  File \"C:\\Users\\nirma\\anaconda3\\lib\\site-packages\\sklearn\\tree\\_classes.py\", line 937, in fit\n",
      "    super().fit(\n",
      "  File \"C:\\Users\\nirma\\anaconda3\\lib\\site-packages\\sklearn\\tree\\_classes.py\", line 352, in fit\n",
      "    criterion = CRITERIA_CLF[self.criterion](\n",
      "KeyError: 'log_loss'\n",
      "\n",
      "  warnings.warn(some_fits_failed_message, FitFailedWarning)\n",
      "C:\\Users\\nirma\\anaconda3\\lib\\site-packages\\sklearn\\model_selection\\_search.py:969: UserWarning: One or more of the test scores are non-finite: [0.76103048 0.6743106  0.50377358 0.50377358 0.50377358 0.50377358\n",
      " 0.50377358 0.50377358 0.50377358 0.50377358 0.50377358 0.50377358\n",
      " 0.76103048 0.64404935 0.50377358 0.50377358 0.50377358 0.50377358\n",
      " 0.50377358 0.50377358 0.50377358 0.50377358 0.50377358 0.50377358\n",
      " 0.76103048 0.70820029 0.50377358 0.50377358 0.50377358 0.50377358\n",
      " 0.50377358 0.50377358 0.50377358 0.50377358 0.50377358 0.50377358\n",
      " 0.76103048 0.71219158 0.50377358 0.50377358 0.50377358 0.50377358\n",
      " 0.50377358 0.50377358 0.50377358 0.50377358 0.50377358 0.50377358\n",
      " 0.76103048 0.71959361 0.50377358 0.50377358 0.50377358 0.50377358\n",
      " 0.50377358 0.50377358 0.50377358 0.50377358 0.50377358 0.50377358\n",
      " 0.76103048 0.68555878 0.50377358 0.50377358 0.50377358 0.50377358\n",
      " 0.50377358 0.50377358 0.50377358 0.50377358 0.50377358 0.50377358\n",
      " 0.76103048 0.75370102 0.50377358 0.50377358 0.50377358 0.50377358\n",
      " 0.50377358 0.50377358 0.50377358 0.50377358 0.50377358 0.50377358\n",
      " 0.76103048 0.71959361 0.50377358 0.50377358 0.50377358 0.50377358\n",
      " 0.50377358 0.50377358 0.50377358 0.50377358 0.50377358 0.50377358\n",
      " 0.76103048 0.70820029 0.50377358 0.50377358 0.50377358 0.50377358\n",
      " 0.50377358 0.50377358 0.50377358 0.50377358 0.50377358 0.50377358\n",
      " 0.76103048 0.73105951 0.50377358 0.50377358 0.50377358 0.50377358\n",
      " 0.50377358 0.50377358 0.50377358 0.50377358 0.50377358 0.50377358\n",
      " 0.76103048 0.68933237 0.50377358 0.50377358 0.50377358 0.50377358\n",
      " 0.50377358 0.50377358 0.50377358 0.50377358 0.50377358 0.50377358\n",
      " 0.76103048 0.69332366 0.50377358 0.50377358 0.50377358 0.50377358\n",
      " 0.50377358 0.50377358 0.50377358 0.50377358 0.50377358 0.50377358\n",
      " 0.76103048 0.75370102 0.50377358 0.50377358 0.50377358 0.50377358\n",
      " 0.50377358 0.50377358 0.50377358 0.50377358 0.50377358 0.50377358\n",
      " 0.76103048 0.68555878 0.50377358 0.50377358 0.50377358 0.50377358\n",
      " 0.50377358 0.50377358 0.50377358 0.50377358 0.50377358 0.50377358\n",
      " 0.76103048 0.67445573 0.50377358 0.50377358 0.50377358 0.50377358\n",
      " 0.50377358 0.50377358 0.50377358 0.50377358 0.50377358 0.50377358\n",
      " 0.76103048 0.65522496 0.50377358 0.50377358 0.50377358 0.50377358\n",
      " 0.50377358 0.50377358 0.50377358 0.50377358 0.50377358 0.50377358\n",
      " 0.76103048 0.70442671 0.50377358 0.50377358 0.50377358 0.50377358\n",
      " 0.50377358 0.50377358 0.50377358 0.50377358 0.50377358 0.50377358\n",
      " 0.76103048 0.70449927 0.50377358 0.50377358 0.50377358 0.50377358\n",
      " 0.50377358 0.50377358 0.50377358 0.50377358 0.50377358 0.50377358\n",
      " 0.76103048 0.70449927 0.50377358 0.50377358 0.50377358 0.50377358\n",
      " 0.50377358 0.50377358 0.50377358 0.50377358 0.50377358 0.50377358\n",
      " 0.76103048 0.74593614 0.50377358 0.50377358 0.50377358 0.50377358\n",
      " 0.50377358 0.50377358 0.50377358 0.50377358 0.50377358 0.50377358\n",
      " 0.76103048 0.70442671 0.50377358 0.50377358 0.50377358 0.50377358\n",
      " 0.50377358 0.50377358 0.50377358 0.50377358 0.50377358 0.50377358\n",
      " 0.76103048 0.75725689 0.50377358 0.50377358 0.50377358 0.50377358\n",
      " 0.50377358 0.50377358 0.50377358 0.50377358 0.50377358 0.50377358\n",
      " 0.76103048 0.68918723 0.50377358 0.50377358 0.50377358 0.50377358\n",
      " 0.50377358 0.50377358 0.50377358 0.50377358 0.50377358 0.50377358\n",
      " 0.76103048 0.71596517 0.50377358 0.50377358 0.50377358 0.50377358\n",
      " 0.50377358 0.50377358 0.50377358 0.50377358 0.50377358 0.50377358\n",
      " 0.76103048 0.76103048 0.50377358 0.50377358 0.50377358 0.50377358\n",
      " 0.50377358 0.50377358 0.50377358 0.50377358 0.50377358 0.50377358\n",
      " 0.76103048 0.708418   0.50377358 0.50377358 0.50377358 0.50377358\n",
      " 0.50377358 0.50377358 0.50377358 0.50377358 0.50377358 0.50377358\n",
      " 0.76103048 0.72728592 0.50377358 0.50377358 0.50377358 0.50377358\n",
      " 0.50377358 0.50377358 0.50377358 0.50377358 0.50377358 0.50377358\n",
      " 0.76103048 0.71219158 0.50377358 0.50377358 0.50377358 0.50377358\n",
      " 0.50377358 0.50377358 0.50377358 0.50377358 0.50377358 0.50377358\n",
      " 0.76103048 0.71574746 0.50377358 0.50377358 0.50377358 0.50377358\n",
      " 0.50377358 0.50377358 0.50377358 0.50377358 0.50377358 0.50377358\n",
      " 0.76103048 0.71219158 0.50377358 0.50377358 0.50377358 0.50377358\n",
      " 0.50377358 0.50377358 0.50377358 0.50377358 0.50377358 0.50377358\n",
      " 0.76103048 0.70065312 0.50377358 0.50377358 0.50377358 0.50377358\n",
      " 0.50377358 0.50377358 0.50377358 0.50377358 0.50377358 0.50377358\n",
      " 0.76103048 0.74238026 0.50377358 0.50377358 0.50377358 0.50377358\n",
      " 0.50377358 0.50377358 0.50377358 0.50377358 0.50377358 0.50377358\n",
      " 0.76103048 0.67786647 0.50377358 0.50377358 0.50377358 0.50377358\n",
      " 0.50377358 0.50377358 0.50377358 0.50377358 0.50377358 0.50377358\n",
      " 0.76103048 0.67046444 0.50377358 0.50377358 0.50377358 0.50377358\n",
      " 0.50377358 0.50377358 0.50377358 0.50377358 0.50377358 0.50377358\n",
      " 0.76103048 0.70442671 0.50377358 0.50377358 0.50377358 0.50377358\n",
      " 0.50377358 0.50377358 0.50377358 0.50377358 0.50377358 0.50377358\n",
      " 0.76103048 0.74216255 0.50377358 0.50377358 0.50377358 0.50377358\n",
      " 0.50377358 0.50377358 0.50377358 0.50377358 0.50377358 0.50377358\n",
      " 0.76103048 0.70464441 0.50377358 0.50377358 0.50377358 0.50377358\n",
      " 0.50377358 0.50377358 0.50377358 0.50377358 0.50377358 0.50377358\n",
      " 0.76103048 0.71204644 0.50377358 0.50377358 0.50377358 0.50377358\n",
      " 0.50377358 0.50377358 0.50377358 0.50377358 0.50377358 0.50377358\n",
      " 0.76103048 0.66669086 0.50377358 0.50377358 0.50377358 0.50377358\n",
      " 0.50377358 0.50377358 0.50377358 0.50377358 0.50377358 0.50377358\n",
      " 0.76103048 0.67409289 0.50377358 0.50377358 0.50377358 0.50377358\n",
      " 0.50377358 0.50377358 0.50377358 0.50377358 0.50377358 0.50377358\n",
      " 0.76103048 0.69709724 0.50377358 0.50377358 0.50377358 0.50377358\n",
      " 0.50377358 0.50377358 0.50377358 0.50377358 0.50377358 0.50377358\n",
      " 0.76103048 0.72314949 0.50377358 0.50377358 0.50377358 0.50377358\n",
      " 0.50377358 0.50377358 0.50377358 0.50377358 0.50377358 0.50377358\n",
      " 0.76103048 0.7308418  0.50377358 0.50377358 0.50377358 0.50377358\n",
      " 0.50377358 0.50377358 0.50377358 0.50377358 0.50377358 0.50377358\n",
      " 0.76103048 0.74593614 0.50377358 0.50377358 0.50377358 0.50377358\n",
      " 0.50377358 0.50377358 0.50377358 0.50377358 0.50377358 0.50377358\n",
      " 0.76103048 0.77256894 0.50377358 0.50377358 0.50377358 0.50377358\n",
      " 0.50377358 0.50377358 0.50377358 0.50377358 0.50377358 0.50377358\n",
      " 0.76103048 0.67053701 0.50377358 0.50377358 0.50377358 0.50377358\n",
      " 0.50377358 0.50377358 0.50377358 0.50377358 0.50377358 0.50377358\n",
      " 0.76103048 0.70087083 0.50377358 0.50377358 0.50377358 0.50377358\n",
      " 0.50377358 0.50377358 0.50377358 0.50377358 0.50377358 0.50377358\n",
      " 0.76103048 0.69709724 0.50377358 0.50377358 0.50377358 0.50377358\n",
      " 0.50377358 0.50377358 0.50377358 0.50377358 0.50377358 0.50377358\n",
      " 0.76103048 0.70442671 0.50377358 0.50377358 0.50377358 0.50377358\n",
      " 0.50377358 0.50377358 0.50377358 0.50377358 0.50377358 0.50377358\n",
      " 0.76103048 0.71596517 0.50377358 0.50377358 0.50377358 0.50377358\n",
      " 0.50377358 0.50377358 0.50377358 0.50377358 0.50377358 0.50377358\n",
      "        nan        nan        nan        nan        nan        nan\n",
      "        nan        nan        nan        nan        nan        nan\n",
      "        nan        nan        nan        nan        nan        nan\n",
      "        nan        nan        nan        nan        nan        nan\n",
      "        nan        nan        nan        nan        nan        nan\n",
      "        nan        nan        nan        nan        nan        nan\n",
      "        nan        nan        nan        nan        nan        nan\n",
      "        nan        nan        nan        nan        nan        nan\n",
      "        nan        nan        nan        nan        nan        nan\n",
      "        nan        nan        nan        nan        nan        nan\n",
      "        nan        nan        nan        nan        nan        nan\n",
      "        nan        nan        nan        nan        nan        nan\n",
      "        nan        nan        nan        nan        nan        nan\n",
      "        nan        nan        nan        nan        nan        nan\n",
      "        nan        nan        nan        nan        nan        nan\n",
      "        nan        nan        nan        nan        nan        nan\n",
      "        nan        nan        nan        nan        nan        nan\n",
      "        nan        nan        nan        nan        nan        nan\n",
      "        nan        nan        nan        nan        nan        nan\n",
      "        nan        nan        nan        nan        nan        nan\n",
      "        nan        nan        nan        nan        nan        nan\n",
      "        nan        nan        nan        nan        nan        nan\n",
      "        nan        nan        nan        nan        nan        nan\n",
      "        nan        nan        nan        nan        nan        nan\n",
      "        nan        nan        nan        nan        nan        nan\n",
      "        nan        nan        nan        nan        nan        nan\n",
      "        nan        nan        nan        nan        nan        nan\n",
      "        nan        nan        nan        nan        nan        nan\n",
      "        nan        nan        nan        nan        nan        nan\n",
      "        nan        nan        nan        nan        nan        nan\n",
      "        nan        nan        nan        nan        nan        nan\n",
      "        nan        nan        nan        nan        nan        nan\n",
      "        nan        nan        nan        nan        nan        nan\n",
      "        nan        nan        nan        nan        nan        nan\n",
      "        nan        nan        nan        nan        nan        nan\n",
      "        nan        nan        nan        nan        nan        nan\n",
      "        nan        nan        nan        nan        nan        nan\n",
      "        nan        nan        nan        nan        nan        nan\n",
      "        nan        nan        nan        nan        nan        nan\n",
      "        nan        nan        nan        nan        nan        nan\n",
      "        nan        nan        nan        nan        nan        nan\n",
      "        nan        nan        nan        nan        nan        nan\n",
      "        nan        nan        nan        nan        nan        nan\n",
      "        nan        nan        nan        nan        nan        nan\n",
      "        nan        nan        nan        nan        nan        nan\n",
      "        nan        nan        nan        nan        nan        nan\n",
      "        nan        nan        nan        nan        nan        nan\n",
      "        nan        nan        nan        nan        nan        nan\n",
      "        nan        nan        nan        nan        nan        nan\n",
      "        nan        nan        nan        nan        nan        nan]\n",
      "  warnings.warn(\n"
     ]
    },
    {
     "data": {
      "text/plain": [
       "GridSearchCV(cv=5, estimator=DecisionTreeClassifier(),\n",
       "             param_grid={'criterion': ['gini', 'entropy', 'log_loss'],\n",
       "                         'max_depth': [8, 10, 12, 14, None],\n",
       "                         'max_leaf_nodes': [10, 20, 30, 40, 50],\n",
       "                         'min_samples_split': [200, 400, 600, 800, 1000, 1200],\n",
       "                         'splitter': ['best', 'random']})"
      ]
     },
     "execution_count": 44,
     "metadata": {},
     "output_type": "execute_result"
    }
   ],
   "source": [
    " grid.fit(X_train,y_train)"
   ]
  },
  {
   "cell_type": "code",
   "execution_count": 45,
   "metadata": {},
   "outputs": [
    {
     "data": {
      "text/plain": [
       "{'criterion': 'entropy',\n",
       " 'max_depth': 14,\n",
       " 'max_leaf_nodes': 50,\n",
       " 'min_samples_split': 200,\n",
       " 'splitter': 'random'}"
      ]
     },
     "execution_count": 45,
     "metadata": {},
     "output_type": "execute_result"
    }
   ],
   "source": [
    "grid.best_params_"
   ]
  },
  {
   "cell_type": "code",
   "execution_count": 46,
   "metadata": {},
   "outputs": [
    {
     "data": {
      "text/plain": [
       "DecisionTreeClassifier(criterion='entropy', max_depth=14, max_leaf_nodes=50,\n",
       "                       min_samples_split=200, splitter='random')"
      ]
     },
     "execution_count": 46,
     "metadata": {},
     "output_type": "execute_result"
    }
   ],
   "source": [
    "grid.best_estimator_"
   ]
  },
  {
   "cell_type": "code",
   "execution_count": 47,
   "metadata": {},
   "outputs": [
    {
     "data": {
      "text/plain": [
       "0.7725689404934688"
      ]
     },
     "execution_count": 47,
     "metadata": {},
     "output_type": "execute_result"
    }
   ],
   "source": [
    "grid.best_score_"
   ]
  },
  {
   "cell_type": "code",
   "execution_count": 48,
   "metadata": {},
   "outputs": [],
   "source": [
    "grid1 = GridSearchCV(DecisionTreeClassifier(),param_grid=param_grid,cv=10)"
   ]
  },
  {
   "cell_type": "code",
   "execution_count": 49,
   "metadata": {},
   "outputs": [
    {
     "name": "stderr",
     "output_type": "stream",
     "text": [
      "C:\\Users\\nirma\\anaconda3\\lib\\site-packages\\sklearn\\model_selection\\_validation.py:372: FitFailedWarning: \n",
      "3000 fits failed out of a total of 9000.\n",
      "The score on these train-test partitions for these parameters will be set to nan.\n",
      "If these failures are not expected, you can try to debug them by setting error_score='raise'.\n",
      "\n",
      "Below are more details about the failures:\n",
      "--------------------------------------------------------------------------------\n",
      "3000 fits failed with the following error:\n",
      "Traceback (most recent call last):\n",
      "  File \"C:\\Users\\nirma\\anaconda3\\lib\\site-packages\\sklearn\\model_selection\\_validation.py\", line 680, in _fit_and_score\n",
      "    estimator.fit(X_train, y_train, **fit_params)\n",
      "  File \"C:\\Users\\nirma\\anaconda3\\lib\\site-packages\\sklearn\\tree\\_classes.py\", line 937, in fit\n",
      "    super().fit(\n",
      "  File \"C:\\Users\\nirma\\anaconda3\\lib\\site-packages\\sklearn\\tree\\_classes.py\", line 352, in fit\n",
      "    criterion = CRITERIA_CLF[self.criterion](\n",
      "KeyError: 'log_loss'\n",
      "\n",
      "  warnings.warn(some_fits_failed_message, FitFailedWarning)\n",
      "C:\\Users\\nirma\\anaconda3\\lib\\site-packages\\sklearn\\model_selection\\_search.py:969: UserWarning: One or more of the test scores are non-finite: [0.76082621 0.71581197 0.5037037  0.5037037  0.5037037  0.5037037\n",
      " 0.5037037  0.5037037  0.5037037  0.5037037  0.5037037  0.5037037\n",
      " 0.76082621 0.67834758 0.5037037  0.5037037  0.5037037  0.5037037\n",
      " 0.5037037  0.5037037  0.5037037  0.5037037  0.5037037  0.5037037\n",
      " 0.76082621 0.66324786 0.5037037  0.5037037  0.5037037  0.5037037\n",
      " 0.5037037  0.5037037  0.5037037  0.5037037  0.5037037  0.5037037\n",
      " 0.76082621 0.71210826 0.5037037  0.5037037  0.5037037  0.5037037\n",
      " 0.5037037  0.5037037  0.5037037  0.5037037  0.5037037  0.5037037\n",
      " 0.76082621 0.70071225 0.5037037  0.5037037  0.5037037  0.5037037\n",
      " 0.5037037  0.5037037  0.5037037  0.5037037  0.5037037  0.5037037\n",
      " 0.76082621 0.7497151  0.5037037  0.5037037  0.5037037  0.5037037\n",
      " 0.5037037  0.5037037  0.5037037  0.5037037  0.5037037  0.5037037\n",
      " 0.76082621 0.68205128 0.5037037  0.5037037  0.5037037  0.5037037\n",
      " 0.5037037  0.5037037  0.5037037  0.5037037  0.5037037  0.5037037\n",
      " 0.76082621 0.71139601 0.5037037  0.5037037  0.5037037  0.5037037\n",
      " 0.5037037  0.5037037  0.5037037  0.5037037  0.5037037  0.5037037\n",
      " 0.76082621 0.67792023 0.5037037  0.5037037  0.5037037  0.5037037\n",
      " 0.5037037  0.5037037  0.5037037  0.5037037  0.5037037  0.5037037\n",
      " 0.76082621 0.66994302 0.5037037  0.5037037  0.5037037  0.5037037\n",
      " 0.5037037  0.5037037  0.5037037  0.5037037  0.5037037  0.5037037\n",
      " 0.76082621 0.67763533 0.5037037  0.5037037  0.5037037  0.5037037\n",
      " 0.5037037  0.5037037  0.5037037  0.5037037  0.5037037  0.5037037\n",
      " 0.76082621 0.68148148 0.5037037  0.5037037  0.5037037  0.5037037\n",
      " 0.5037037  0.5037037  0.5037037  0.5037037  0.5037037  0.5037037\n",
      " 0.76082621 0.69700855 0.5037037  0.5037037  0.5037037  0.5037037\n",
      " 0.5037037  0.5037037  0.5037037  0.5037037  0.5037037  0.5037037\n",
      " 0.76082621 0.72293447 0.5037037  0.5037037  0.5037037  0.5037037\n",
      " 0.5037037  0.5037037  0.5037037  0.5037037  0.5037037  0.5037037\n",
      " 0.76082621 0.71524217 0.5037037  0.5037037  0.5037037  0.5037037\n",
      " 0.5037037  0.5037037  0.5037037  0.5037037  0.5037037  0.5037037\n",
      " 0.76082621 0.70042735 0.5037037  0.5037037  0.5037037  0.5037037\n",
      " 0.5037037  0.5037037  0.5037037  0.5037037  0.5037037  0.5037037\n",
      " 0.76082621 0.70840456 0.5037037  0.5037037  0.5037037  0.5037037\n",
      " 0.5037037  0.5037037  0.5037037  0.5037037  0.5037037  0.5037037\n",
      " 0.76082621 0.6545584  0.5037037  0.5037037  0.5037037  0.5037037\n",
      " 0.5037037  0.5037037  0.5037037  0.5037037  0.5037037  0.5037037\n",
      " 0.76082621 0.64415954 0.5037037  0.5037037  0.5037037  0.5037037\n",
      " 0.5037037  0.5037037  0.5037037  0.5037037  0.5037037  0.5037037\n",
      " 0.76082621 0.69643875 0.5037037  0.5037037  0.5037037  0.5037037\n",
      " 0.5037037  0.5037037  0.5037037  0.5037037  0.5037037  0.5037037\n",
      " 0.76082621 0.71239316 0.5037037  0.5037037  0.5037037  0.5037037\n",
      " 0.5037037  0.5037037  0.5037037  0.5037037  0.5037037  0.5037037\n",
      " 0.76082621 0.71595442 0.5037037  0.5037037  0.5037037  0.5037037\n",
      " 0.5037037  0.5037037  0.5037037  0.5037037  0.5037037  0.5037037\n",
      " 0.76082621 0.66581197 0.5037037  0.5037037  0.5037037  0.5037037\n",
      " 0.5037037  0.5037037  0.5037037  0.5037037  0.5037037  0.5037037\n",
      " 0.76082621 0.69273504 0.5037037  0.5037037  0.5037037  0.5037037\n",
      " 0.5037037  0.5037037  0.5037037  0.5037037  0.5037037  0.5037037\n",
      " 0.76082621 0.68532764 0.5037037  0.5037037  0.5037037  0.5037037\n",
      " 0.5037037  0.5037037  0.5037037  0.5037037  0.5037037  0.5037037\n",
      " 0.76082621 0.68162393 0.5037037  0.5037037  0.5037037  0.5037037\n",
      " 0.5037037  0.5037037  0.5037037  0.5037037  0.5037037  0.5037037\n",
      " 0.76082621 0.71880342 0.5037037  0.5037037  0.5037037  0.5037037\n",
      " 0.5037037  0.5037037  0.5037037  0.5037037  0.5037037  0.5037037\n",
      " 0.76082621 0.74245014 0.5037037  0.5037037  0.5037037  0.5037037\n",
      " 0.5037037  0.5037037  0.5037037  0.5037037  0.5037037  0.5037037\n",
      " 0.76082621 0.72435897 0.5037037  0.5037037  0.5037037  0.5037037\n",
      " 0.5037037  0.5037037  0.5037037  0.5037037  0.5037037  0.5037037\n",
      " 0.76082621 0.69230769 0.5037037  0.5037037  0.5037037  0.5037037\n",
      " 0.5037037  0.5037037  0.5037037  0.5037037  0.5037037  0.5037037\n",
      " 0.76082621 0.72663818 0.5037037  0.5037037  0.5037037  0.5037037\n",
      " 0.5037037  0.5037037  0.5037037  0.5037037  0.5037037  0.5037037\n",
      " 0.76082621 0.70840456 0.5037037  0.5037037  0.5037037  0.5037037\n",
      " 0.5037037  0.5037037  0.5037037  0.5037037  0.5037037  0.5037037\n",
      " 0.76082621 0.7042735  0.5037037  0.5037037  0.5037037  0.5037037\n",
      " 0.5037037  0.5037037  0.5037037  0.5037037  0.5037037  0.5037037\n",
      " 0.76082621 0.6965812  0.5037037  0.5037037  0.5037037  0.5037037\n",
      " 0.5037037  0.5037037  0.5037037  0.5037037  0.5037037  0.5037037\n",
      " 0.76082621 0.76481481 0.5037037  0.5037037  0.5037037  0.5037037\n",
      " 0.5037037  0.5037037  0.5037037  0.5037037  0.5037037  0.5037037\n",
      " 0.76082621 0.72407407 0.5037037  0.5037037  0.5037037  0.5037037\n",
      " 0.5037037  0.5037037  0.5037037  0.5037037  0.5037037  0.5037037\n",
      " 0.76082621 0.65883191 0.5037037  0.5037037  0.5037037  0.5037037\n",
      " 0.5037037  0.5037037  0.5037037  0.5037037  0.5037037  0.5037037\n",
      " 0.76082621 0.73504274 0.5037037  0.5037037  0.5037037  0.5037037\n",
      " 0.5037037  0.5037037  0.5037037  0.5037037  0.5037037  0.5037037\n",
      " 0.76082621 0.72264957 0.5037037  0.5037037  0.5037037  0.5037037\n",
      " 0.5037037  0.5037037  0.5037037  0.5037037  0.5037037  0.5037037\n",
      " 0.76082621 0.66652422 0.5037037  0.5037037  0.5037037  0.5037037\n",
      " 0.5037037  0.5037037  0.5037037  0.5037037  0.5037037  0.5037037\n",
      " 0.76082621 0.70911681 0.5037037  0.5037037  0.5037037  0.5037037\n",
      " 0.5037037  0.5037037  0.5037037  0.5037037  0.5037037  0.5037037\n",
      " 0.76082621 0.70826211 0.5037037  0.5037037  0.5037037  0.5037037\n",
      " 0.5037037  0.5037037  0.5037037  0.5037037  0.5037037  0.5037037\n",
      " 0.76082621 0.74145299 0.5037037  0.5037037  0.5037037  0.5037037\n",
      " 0.5037037  0.5037037  0.5037037  0.5037037  0.5037037  0.5037037\n",
      " 0.76082621 0.68632479 0.5037037  0.5037037  0.5037037  0.5037037\n",
      " 0.5037037  0.5037037  0.5037037  0.5037037  0.5037037  0.5037037\n",
      " 0.76082621 0.74159544 0.5037037  0.5037037  0.5037037  0.5037037\n",
      " 0.5037037  0.5037037  0.5037037  0.5037037  0.5037037  0.5037037\n",
      " 0.76082621 0.70740741 0.5037037  0.5037037  0.5037037  0.5037037\n",
      " 0.5037037  0.5037037  0.5037037  0.5037037  0.5037037  0.5037037\n",
      " 0.76082621 0.68190883 0.5037037  0.5037037  0.5037037  0.5037037\n",
      " 0.5037037  0.5037037  0.5037037  0.5037037  0.5037037  0.5037037\n",
      " 0.76082621 0.7457265  0.5037037  0.5037037  0.5037037  0.5037037\n",
      " 0.5037037  0.5037037  0.5037037  0.5037037  0.5037037  0.5037037\n",
      " 0.76082621 0.68034188 0.5037037  0.5037037  0.5037037  0.5037037\n",
      " 0.5037037  0.5037037  0.5037037  0.5037037  0.5037037  0.5037037\n",
      " 0.76082621 0.66153846 0.5037037  0.5037037  0.5037037  0.5037037\n",
      " 0.5037037  0.5037037  0.5037037  0.5037037  0.5037037  0.5037037\n",
      "        nan        nan        nan        nan        nan        nan\n",
      "        nan        nan        nan        nan        nan        nan\n",
      "        nan        nan        nan        nan        nan        nan\n",
      "        nan        nan        nan        nan        nan        nan\n",
      "        nan        nan        nan        nan        nan        nan\n",
      "        nan        nan        nan        nan        nan        nan\n",
      "        nan        nan        nan        nan        nan        nan\n",
      "        nan        nan        nan        nan        nan        nan\n",
      "        nan        nan        nan        nan        nan        nan\n",
      "        nan        nan        nan        nan        nan        nan\n",
      "        nan        nan        nan        nan        nan        nan\n",
      "        nan        nan        nan        nan        nan        nan\n",
      "        nan        nan        nan        nan        nan        nan\n",
      "        nan        nan        nan        nan        nan        nan\n",
      "        nan        nan        nan        nan        nan        nan\n",
      "        nan        nan        nan        nan        nan        nan\n",
      "        nan        nan        nan        nan        nan        nan\n",
      "        nan        nan        nan        nan        nan        nan\n",
      "        nan        nan        nan        nan        nan        nan\n",
      "        nan        nan        nan        nan        nan        nan\n",
      "        nan        nan        nan        nan        nan        nan\n",
      "        nan        nan        nan        nan        nan        nan\n",
      "        nan        nan        nan        nan        nan        nan\n",
      "        nan        nan        nan        nan        nan        nan\n",
      "        nan        nan        nan        nan        nan        nan\n",
      "        nan        nan        nan        nan        nan        nan\n",
      "        nan        nan        nan        nan        nan        nan\n",
      "        nan        nan        nan        nan        nan        nan\n",
      "        nan        nan        nan        nan        nan        nan\n",
      "        nan        nan        nan        nan        nan        nan\n",
      "        nan        nan        nan        nan        nan        nan\n",
      "        nan        nan        nan        nan        nan        nan\n",
      "        nan        nan        nan        nan        nan        nan\n",
      "        nan        nan        nan        nan        nan        nan\n",
      "        nan        nan        nan        nan        nan        nan\n",
      "        nan        nan        nan        nan        nan        nan\n",
      "        nan        nan        nan        nan        nan        nan\n",
      "        nan        nan        nan        nan        nan        nan\n",
      "        nan        nan        nan        nan        nan        nan\n",
      "        nan        nan        nan        nan        nan        nan\n",
      "        nan        nan        nan        nan        nan        nan\n",
      "        nan        nan        nan        nan        nan        nan\n",
      "        nan        nan        nan        nan        nan        nan\n",
      "        nan        nan        nan        nan        nan        nan\n",
      "        nan        nan        nan        nan        nan        nan\n",
      "        nan        nan        nan        nan        nan        nan\n",
      "        nan        nan        nan        nan        nan        nan\n",
      "        nan        nan        nan        nan        nan        nan\n",
      "        nan        nan        nan        nan        nan        nan\n",
      "        nan        nan        nan        nan        nan        nan]\n",
      "  warnings.warn(\n"
     ]
    },
    {
     "data": {
      "text/plain": [
       "GridSearchCV(cv=10, estimator=DecisionTreeClassifier(),\n",
       "             param_grid={'criterion': ['gini', 'entropy', 'log_loss'],\n",
       "                         'max_depth': [8, 10, 12, 14, None],\n",
       "                         'max_leaf_nodes': [10, 20, 30, 40, 50],\n",
       "                         'min_samples_split': [200, 400, 600, 800, 1000, 1200],\n",
       "                         'splitter': ['best', 'random']})"
      ]
     },
     "execution_count": 49,
     "metadata": {},
     "output_type": "execute_result"
    }
   ],
   "source": [
    "grid1.fit(X_train,y_train)"
   ]
  },
  {
   "cell_type": "code",
   "execution_count": 50,
   "metadata": {},
   "outputs": [
    {
     "data": {
      "text/plain": [
       "DecisionTreeClassifier(criterion='entropy', max_depth=10, max_leaf_nodes=50,\n",
       "                       min_samples_split=200, splitter='random')"
      ]
     },
     "execution_count": 50,
     "metadata": {},
     "output_type": "execute_result"
    }
   ],
   "source": [
    "grid1.best_estimator_"
   ]
  },
  {
   "cell_type": "code",
   "execution_count": 51,
   "metadata": {},
   "outputs": [
    {
     "data": {
      "text/plain": [
       "{'criterion': 'entropy',\n",
       " 'max_depth': 10,\n",
       " 'max_leaf_nodes': 50,\n",
       " 'min_samples_split': 200,\n",
       " 'splitter': 'random'}"
      ]
     },
     "execution_count": 51,
     "metadata": {},
     "output_type": "execute_result"
    }
   ],
   "source": [
    "grid1.best_params_"
   ]
  },
  {
   "cell_type": "code",
   "execution_count": 52,
   "metadata": {},
   "outputs": [
    {
     "data": {
      "text/plain": [
       "0.7648148148148148"
      ]
     },
     "execution_count": 52,
     "metadata": {},
     "output_type": "execute_result"
    }
   ],
   "source": [
    "grid1.best_score_"
   ]
  },
  {
   "cell_type": "markdown",
   "metadata": {
    "colab_type": "text",
    "id": "ePRTeaPJhD8i"
   },
   "source": [
    "# Random Forest Classifier"
   ]
  },
  {
   "cell_type": "code",
   "execution_count": 53,
   "metadata": {
    "ExecuteTime": {
     "end_time": "2023-01-03T05:44:58.851513Z",
     "start_time": "2023-01-03T05:44:58.836339Z"
    }
   },
   "outputs": [],
   "source": [
    "from sklearn.ensemble import RandomForestClassifier\n",
    "RFC = RandomForestClassifier()"
   ]
  },
  {
   "cell_type": "code",
   "execution_count": 54,
   "metadata": {
    "ExecuteTime": {
     "end_time": "2023-01-03T05:45:10.595059Z",
     "start_time": "2023-01-03T05:45:10.397423Z"
    }
   },
   "outputs": [
    {
     "data": {
      "text/plain": [
       "RandomForestClassifier()"
      ]
     },
     "execution_count": 54,
     "metadata": {},
     "output_type": "execute_result"
    }
   ],
   "source": [
    "RFC.fit(X_train_scaled,y_train)"
   ]
  },
  {
   "cell_type": "code",
   "execution_count": 55,
   "metadata": {
    "ExecuteTime": {
     "end_time": "2023-01-03T05:45:16.406565Z",
     "start_time": "2023-01-03T05:45:16.384783Z"
    }
   },
   "outputs": [],
   "source": [
    "Y_pred = RFC.predict(X_test_scaled)"
   ]
  },
  {
   "cell_type": "code",
   "execution_count": 56,
   "metadata": {
    "ExecuteTime": {
     "end_time": "2023-01-03T05:45:18.363845Z",
     "start_time": "2023-01-03T05:45:18.347459Z"
    }
   },
   "outputs": [
    {
     "data": {
      "text/plain": [
       "(66,)"
      ]
     },
     "execution_count": 56,
     "metadata": {},
     "output_type": "execute_result"
    }
   ],
   "source": [
    "Y_pred.shape"
   ]
  },
  {
   "cell_type": "code",
   "execution_count": 57,
   "metadata": {
    "ExecuteTime": {
     "end_time": "2023-01-03T05:45:27.252572Z",
     "start_time": "2023-01-03T05:45:27.206881Z"
    }
   },
   "outputs": [
    {
     "name": "stdout",
     "output_type": "stream",
     "text": [
      "Model Score for train data 100.0\n"
     ]
    }
   ],
   "source": [
    "Train_data_score = RFC.score(X_train_scaled,y_train)*100\n",
    "print(\"Model Score for train data\",Train_data_score)"
   ]
  },
  {
   "cell_type": "code",
   "execution_count": 58,
   "metadata": {
    "ExecuteTime": {
     "end_time": "2023-01-03T05:45:34.310125Z",
     "start_time": "2023-01-03T05:45:34.287967Z"
    }
   },
   "outputs": [
    {
     "name": "stdout",
     "output_type": "stream",
     "text": [
      "score is: 51.470588235294116\n"
     ]
    }
   ],
   "source": [
    "from sklearn.metrics import r2_score\n",
    "score=r2_score(y_test,Y_pred)*100\n",
    "print(\"score is:\",score)"
   ]
  },
  {
   "cell_type": "markdown",
   "metadata": {},
   "source": [
    " \n",
    " \n",
    " \n",
    " "
   ]
  },
  {
   "cell_type": "markdown",
   "metadata": {},
   "source": [
    "# Hyper parameter Tuning"
   ]
  },
  {
   "cell_type": "code",
   "execution_count": 59,
   "metadata": {},
   "outputs": [],
   "source": [
    "from sklearn.model_selection import GridSearchCV\n"
   ]
  },
  {
   "cell_type": "code",
   "execution_count": 60,
   "metadata": {},
   "outputs": [],
   "source": [
    "param_grid = {\n",
    "    'criterion':['gini', 'entropy', 'log_loss'],\n",
    "    'n_estimators':[50,100,150,200],\n",
    "    'max_depth':[3,5,7,9,11,13]\n",
    "}"
   ]
  },
  {
   "cell_type": "code",
   "execution_count": 61,
   "metadata": {},
   "outputs": [],
   "source": [
    "grid = GridSearchCV( RandomForestClassifier(),param_grid=param_grid,cv=5)"
   ]
  },
  {
   "cell_type": "code",
   "execution_count": 62,
   "metadata": {},
   "outputs": [
    {
     "name": "stderr",
     "output_type": "stream",
     "text": [
      "C:\\Users\\nirma\\anaconda3\\lib\\site-packages\\sklearn\\model_selection\\_validation.py:372: FitFailedWarning: \n",
      "120 fits failed out of a total of 360.\n",
      "The score on these train-test partitions for these parameters will be set to nan.\n",
      "If these failures are not expected, you can try to debug them by setting error_score='raise'.\n",
      "\n",
      "Below are more details about the failures:\n",
      "--------------------------------------------------------------------------------\n",
      "120 fits failed with the following error:\n",
      "Traceback (most recent call last):\n",
      "  File \"C:\\Users\\nirma\\anaconda3\\lib\\site-packages\\sklearn\\model_selection\\_validation.py\", line 680, in _fit_and_score\n",
      "    estimator.fit(X_train, y_train, **fit_params)\n",
      "  File \"C:\\Users\\nirma\\anaconda3\\lib\\site-packages\\sklearn\\ensemble\\_forest.py\", line 450, in fit\n",
      "    trees = Parallel(\n",
      "  File \"C:\\Users\\nirma\\anaconda3\\lib\\site-packages\\joblib\\parallel.py\", line 1085, in __call__\n",
      "    if self.dispatch_one_batch(iterator):\n",
      "  File \"C:\\Users\\nirma\\anaconda3\\lib\\site-packages\\joblib\\parallel.py\", line 901, in dispatch_one_batch\n",
      "    self._dispatch(tasks)\n",
      "  File \"C:\\Users\\nirma\\anaconda3\\lib\\site-packages\\joblib\\parallel.py\", line 819, in _dispatch\n",
      "    job = self._backend.apply_async(batch, callback=cb)\n",
      "  File \"C:\\Users\\nirma\\anaconda3\\lib\\site-packages\\joblib\\_parallel_backends.py\", line 208, in apply_async\n",
      "    result = ImmediateResult(func)\n",
      "  File \"C:\\Users\\nirma\\anaconda3\\lib\\site-packages\\joblib\\_parallel_backends.py\", line 597, in __init__\n",
      "    self.results = batch()\n",
      "  File \"C:\\Users\\nirma\\anaconda3\\lib\\site-packages\\joblib\\parallel.py\", line 288, in __call__\n",
      "    return [func(*args, **kwargs)\n",
      "  File \"C:\\Users\\nirma\\anaconda3\\lib\\site-packages\\joblib\\parallel.py\", line 288, in <listcomp>\n",
      "    return [func(*args, **kwargs)\n",
      "  File \"C:\\Users\\nirma\\anaconda3\\lib\\site-packages\\sklearn\\utils\\fixes.py\", line 216, in __call__\n",
      "    return self.function(*args, **kwargs)\n",
      "  File \"C:\\Users\\nirma\\anaconda3\\lib\\site-packages\\sklearn\\ensemble\\_forest.py\", line 185, in _parallel_build_trees\n",
      "    tree.fit(X, y, sample_weight=curr_sample_weight, check_input=False)\n",
      "  File \"C:\\Users\\nirma\\anaconda3\\lib\\site-packages\\sklearn\\tree\\_classes.py\", line 937, in fit\n",
      "    super().fit(\n",
      "  File \"C:\\Users\\nirma\\anaconda3\\lib\\site-packages\\sklearn\\tree\\_classes.py\", line 352, in fit\n",
      "    criterion = CRITERIA_CLF[self.criterion](\n",
      "KeyError: 'log_loss'\n",
      "\n",
      "  warnings.warn(some_fits_failed_message, FitFailedWarning)\n",
      "C:\\Users\\nirma\\anaconda3\\lib\\site-packages\\sklearn\\model_selection\\_search.py:969: UserWarning: One or more of the test scores are non-finite: [0.78403483 0.79912917 0.78396226 0.79150943 0.78780842 0.79150943\n",
      " 0.77641509 0.78011611 0.80660377 0.80283019 0.78773585 0.79898403\n",
      " 0.78403483 0.78011611 0.80667634 0.79143687 0.79912917 0.78396226\n",
      " 0.791582   0.78011611 0.791582   0.80283019 0.79150943 0.79535559\n",
      " 0.78396226 0.79143687 0.791582   0.78018868 0.76886792 0.78773585\n",
      " 0.79528302 0.78018868 0.82177068 0.78766328 0.79150943 0.79528302\n",
      " 0.81044993 0.80290276 0.7990566  0.79535559 0.78773585 0.76879536\n",
      " 0.79535559 0.79150943 0.77648766 0.79528302 0.79535559 0.78780842\n",
      "        nan        nan        nan        nan        nan        nan\n",
      "        nan        nan        nan        nan        nan        nan\n",
      "        nan        nan        nan        nan        nan        nan\n",
      "        nan        nan        nan        nan        nan        nan]\n",
      "  warnings.warn(\n"
     ]
    },
    {
     "data": {
      "text/plain": [
       "GridSearchCV(cv=5, estimator=RandomForestClassifier(),\n",
       "             param_grid={'criterion': ['gini', 'entropy', 'log_loss'],\n",
       "                         'max_depth': [3, 5, 7, 9, 11, 13],\n",
       "                         'n_estimators': [50, 100, 150, 200]})"
      ]
     },
     "execution_count": 62,
     "metadata": {},
     "output_type": "execute_result"
    }
   ],
   "source": [
    "grid.fit(X_train,y_train)"
   ]
  },
  {
   "cell_type": "code",
   "execution_count": 63,
   "metadata": {},
   "outputs": [
    {
     "data": {
      "text/plain": [
       "RandomForestClassifier(criterion='entropy', max_depth=7, n_estimators=50)"
      ]
     },
     "execution_count": 63,
     "metadata": {},
     "output_type": "execute_result"
    }
   ],
   "source": [
    "grid.best_estimator_"
   ]
  },
  {
   "cell_type": "code",
   "execution_count": 64,
   "metadata": {},
   "outputs": [
    {
     "data": {
      "text/plain": [
       "{'criterion': 'entropy', 'max_depth': 7, 'n_estimators': 50}"
      ]
     },
     "execution_count": 64,
     "metadata": {},
     "output_type": "execute_result"
    }
   ],
   "source": [
    "grid.best_params_"
   ]
  },
  {
   "cell_type": "code",
   "execution_count": 65,
   "metadata": {},
   "outputs": [
    {
     "data": {
      "text/plain": [
       "0.8217706821480407"
      ]
     },
     "execution_count": 65,
     "metadata": {},
     "output_type": "execute_result"
    }
   ],
   "source": [
    "grid.best_score_"
   ]
  },
  {
   "cell_type": "code",
   "execution_count": 66,
   "metadata": {},
   "outputs": [],
   "source": [
    "grid1 = GridSearchCV( RandomForestClassifier(),param_grid=param_grid,cv=10)"
   ]
  },
  {
   "cell_type": "code",
   "execution_count": 67,
   "metadata": {},
   "outputs": [
    {
     "name": "stderr",
     "output_type": "stream",
     "text": [
      "C:\\Users\\nirma\\anaconda3\\lib\\site-packages\\sklearn\\model_selection\\_validation.py:372: FitFailedWarning: \n",
      "240 fits failed out of a total of 720.\n",
      "The score on these train-test partitions for these parameters will be set to nan.\n",
      "If these failures are not expected, you can try to debug them by setting error_score='raise'.\n",
      "\n",
      "Below are more details about the failures:\n",
      "--------------------------------------------------------------------------------\n",
      "240 fits failed with the following error:\n",
      "Traceback (most recent call last):\n",
      "  File \"C:\\Users\\nirma\\anaconda3\\lib\\site-packages\\sklearn\\model_selection\\_validation.py\", line 680, in _fit_and_score\n",
      "    estimator.fit(X_train, y_train, **fit_params)\n",
      "  File \"C:\\Users\\nirma\\anaconda3\\lib\\site-packages\\sklearn\\ensemble\\_forest.py\", line 450, in fit\n",
      "    trees = Parallel(\n",
      "  File \"C:\\Users\\nirma\\anaconda3\\lib\\site-packages\\joblib\\parallel.py\", line 1085, in __call__\n",
      "    if self.dispatch_one_batch(iterator):\n",
      "  File \"C:\\Users\\nirma\\anaconda3\\lib\\site-packages\\joblib\\parallel.py\", line 901, in dispatch_one_batch\n",
      "    self._dispatch(tasks)\n",
      "  File \"C:\\Users\\nirma\\anaconda3\\lib\\site-packages\\joblib\\parallel.py\", line 819, in _dispatch\n",
      "    job = self._backend.apply_async(batch, callback=cb)\n",
      "  File \"C:\\Users\\nirma\\anaconda3\\lib\\site-packages\\joblib\\_parallel_backends.py\", line 208, in apply_async\n",
      "    result = ImmediateResult(func)\n",
      "  File \"C:\\Users\\nirma\\anaconda3\\lib\\site-packages\\joblib\\_parallel_backends.py\", line 597, in __init__\n",
      "    self.results = batch()\n",
      "  File \"C:\\Users\\nirma\\anaconda3\\lib\\site-packages\\joblib\\parallel.py\", line 288, in __call__\n",
      "    return [func(*args, **kwargs)\n",
      "  File \"C:\\Users\\nirma\\anaconda3\\lib\\site-packages\\joblib\\parallel.py\", line 288, in <listcomp>\n",
      "    return [func(*args, **kwargs)\n",
      "  File \"C:\\Users\\nirma\\anaconda3\\lib\\site-packages\\sklearn\\utils\\fixes.py\", line 216, in __call__\n",
      "    return self.function(*args, **kwargs)\n",
      "  File \"C:\\Users\\nirma\\anaconda3\\lib\\site-packages\\sklearn\\ensemble\\_forest.py\", line 185, in _parallel_build_trees\n",
      "    tree.fit(X, y, sample_weight=curr_sample_weight, check_input=False)\n",
      "  File \"C:\\Users\\nirma\\anaconda3\\lib\\site-packages\\sklearn\\tree\\_classes.py\", line 937, in fit\n",
      "    super().fit(\n",
      "  File \"C:\\Users\\nirma\\anaconda3\\lib\\site-packages\\sklearn\\tree\\_classes.py\", line 352, in fit\n",
      "    criterion = CRITERIA_CLF[self.criterion](\n",
      "KeyError: 'log_loss'\n",
      "\n",
      "  warnings.warn(some_fits_failed_message, FitFailedWarning)\n",
      "C:\\Users\\nirma\\anaconda3\\lib\\site-packages\\sklearn\\model_selection\\_search.py:969: UserWarning: One or more of the test scores are non-finite: [0.78746439 0.79116809 0.80655271 0.802849   0.77991453 0.79145299\n",
      " 0.79501425 0.79871795 0.77222222 0.79487179 0.78005698 0.78774929\n",
      " 0.78376068 0.78347578 0.80655271 0.79529915 0.79487179 0.79131054\n",
      " 0.79900285 0.7951567  0.80641026 0.81381766 0.7988604  0.80968661\n",
      " 0.79529915 0.81011396 0.79131054 0.80641026 0.78760684 0.77621083\n",
      " 0.79131054 0.79116809 0.79871795 0.79116809 0.79501425 0.78005698\n",
      " 0.79472934 0.78760684 0.7951567  0.79116809 0.78034188 0.80669516\n",
      " 0.79102564 0.78746439 0.79472934 0.79871795 0.8025641  0.7988604\n",
      "        nan        nan        nan        nan        nan        nan\n",
      "        nan        nan        nan        nan        nan        nan\n",
      "        nan        nan        nan        nan        nan        nan\n",
      "        nan        nan        nan        nan        nan        nan]\n",
      "  warnings.warn(\n"
     ]
    },
    {
     "data": {
      "text/plain": [
       "GridSearchCV(cv=10, estimator=RandomForestClassifier(),\n",
       "             param_grid={'criterion': ['gini', 'entropy', 'log_loss'],\n",
       "                         'max_depth': [3, 5, 7, 9, 11, 13],\n",
       "                         'n_estimators': [50, 100, 150, 200]})"
      ]
     },
     "execution_count": 67,
     "metadata": {},
     "output_type": "execute_result"
    }
   ],
   "source": [
    "grid1.fit(X_train,y_train)"
   ]
  },
  {
   "cell_type": "code",
   "execution_count": 68,
   "metadata": {},
   "outputs": [
    {
     "data": {
      "text/plain": [
       "RandomForestClassifier(max_depth=13)"
      ]
     },
     "execution_count": 68,
     "metadata": {},
     "output_type": "execute_result"
    }
   ],
   "source": [
    "grid1.best_estimator_"
   ]
  },
  {
   "cell_type": "code",
   "execution_count": 69,
   "metadata": {},
   "outputs": [
    {
     "data": {
      "text/plain": [
       "{'criterion': 'gini', 'max_depth': 13, 'n_estimators': 100}"
      ]
     },
     "execution_count": 69,
     "metadata": {},
     "output_type": "execute_result"
    }
   ],
   "source": [
    "grid1.best_params_"
   ]
  },
  {
   "cell_type": "code",
   "execution_count": 70,
   "metadata": {},
   "outputs": [
    {
     "data": {
      "text/plain": [
       "0.8138176638176638"
      ]
     },
     "execution_count": 70,
     "metadata": {},
     "output_type": "execute_result"
    }
   ],
   "source": [
    "grid1.best_score_"
   ]
  },
  {
   "cell_type": "markdown",
   "metadata": {},
   "source": [
    "# Support Vector Classifier"
   ]
  },
  {
   "cell_type": "code",
   "execution_count": 71,
   "metadata": {},
   "outputs": [],
   "source": [
    "from sklearn.svm import SVC\n",
    "sv = SVC()"
   ]
  },
  {
   "cell_type": "code",
   "execution_count": 72,
   "metadata": {},
   "outputs": [
    {
     "data": {
      "text/plain": [
       "SVC()"
      ]
     },
     "execution_count": 72,
     "metadata": {},
     "output_type": "execute_result"
    }
   ],
   "source": [
    "sv.fit(X_train_scaled,y_train)"
   ]
  },
  {
   "cell_type": "code",
   "execution_count": 73,
   "metadata": {},
   "outputs": [],
   "source": [
    "Y_pred = sv.predict(X_test_scaled)"
   ]
  },
  {
   "cell_type": "code",
   "execution_count": 74,
   "metadata": {},
   "outputs": [
    {
     "data": {
      "text/plain": [
       "(66,)"
      ]
     },
     "execution_count": 74,
     "metadata": {},
     "output_type": "execute_result"
    }
   ],
   "source": [
    "Y_pred.shape"
   ]
  },
  {
   "cell_type": "code",
   "execution_count": 75,
   "metadata": {},
   "outputs": [
    {
     "name": "stdout",
     "output_type": "stream",
     "text": [
      "Model Score for train data 91.28787878787878\n"
     ]
    }
   ],
   "source": [
    "Train_data_score = sv.score(X_train_scaled,y_train)*100\n",
    "print(\"Model Score for train data\",Train_data_score)"
   ]
  },
  {
   "cell_type": "code",
   "execution_count": 76,
   "metadata": {},
   "outputs": [
    {
     "name": "stdout",
     "output_type": "stream",
     "text": [
      "score is: 33.272058823529406\n"
     ]
    }
   ],
   "source": [
    "from sklearn.metrics import r2_score\n",
    "score=r2_score(y_test,Y_pred)*100\n",
    "print(\"score is:\",score)"
   ]
  },
  {
   "cell_type": "markdown",
   "metadata": {},
   "source": [
    "Voting Method"
   ]
  },
  {
   "cell_type": "code",
   "execution_count": 82,
   "metadata": {},
   "outputs": [],
   "source": [
    "# Dataset\n",
    "from sklearn.datasets import make_classification\n",
    "# sklearn\n",
    "from sklearn.model_selection import train_test_split\n",
    "#from sklearn.tree import DecisionTreeClassifier\n",
    "from sklearn.linear_model import LogisticRegression\n",
    "from sklearn.ensemble import RandomForestClassifier\n",
    "#from sklearn.svm import SVC\n",
    "from sklearn.ensemble import GradientBoostingClassifier, VotingClassifier\n",
    "from sklearn.metrics import f1_score, accuracy_score"
   ]
  },
  {
   "cell_type": "code",
   "execution_count": 89,
   "metadata": {},
   "outputs": [],
   "source": [
    "seed=564541\n",
    "df = make_classification(n_samples=303, n_features=14, n_informative=6, n_redundant=1, random_state=seed)\n",
    "# Split\n",
    "X,y = df[0], df[1]\n",
    "# Train Test\n",
    "X_train, X_test, y_train, y_test = train_test_split(X,y, test_size=0.2, random_state=seed)"
   ]
  },
  {
   "cell_type": "code",
   "execution_count": 90,
   "metadata": {},
   "outputs": [],
   "source": [
    "# Creating instances of the algorithms\n",
    "logit_model = LogisticRegression()\n",
    "#dt_model = DecisionTreeClassifier()\n",
    "rf_model= RandomForestClassifier()\n",
    "#sv_model= SVC()\n",
    "gb_model = GradientBoostingClassifier()"
   ]
  },
  {
   "cell_type": "code",
   "execution_count": 91,
   "metadata": {},
   "outputs": [],
   "source": [
    "# Voting Classifier\n",
    "voting = VotingClassifier(estimators=[\n",
    "          ('lr', logit_model),\n",
    "          ('rf', rf_model),\n",
    "          ('gb', gb_model) ],\n",
    "           voting='hard')"
   ]
  },
  {
   "cell_type": "code",
   "execution_count": 92,
   "metadata": {},
   "outputs": [
    {
     "name": "stdout",
     "output_type": "stream",
     "text": [
      "F1 Score:\n",
      "RandomForestClassifier 0.9508196721311476\n",
      "Accuracy:\n",
      "RandomForestClassifier 0.9508196721311475\n",
      "----------\n",
      "F1 Score:\n",
      "RandomForestClassifier 0.9508196721311476\n",
      "Accuracy:\n",
      "RandomForestClassifier 0.9508196721311475\n",
      "----------\n",
      "F1 Score:\n",
      "GradientBoostingClassifier 0.9666666666666667\n",
      "Accuracy:\n",
      "GradientBoostingClassifier 0.9672131147540983\n",
      "----------\n",
      "F1 Score:\n",
      "VotingClassifier 0.983050847457627\n",
      "Accuracy:\n",
      "VotingClassifier 0.9836065573770492\n",
      "----------\n"
     ]
    }
   ],
   "source": [
    "# list of classifiers\n",
    "list_of_classifiers = [rf_model,rf_model, gb_model, voting]\n",
    "# Loop scores\n",
    "for classifier in list_of_classifiers:\n",
    "    classifier.fit(X_train,y_train)\n",
    "    pred = classifier.predict(X_test)\n",
    "    print(\"F1 Score:\")\n",
    "    print(classifier.__class__.__name__, f1_score(y_test, pred))\n",
    "    print(\"Accuracy:\")\n",
    "    print(classifier.__class__.__name__, accuracy_score(y_test, pred))\n",
    "    print(\"----------\")"
   ]
  },
  {
   "cell_type": "code",
   "execution_count": null,
   "metadata": {},
   "outputs": [],
   "source": []
  }
 ],
 "metadata": {
  "colab": {
   "collapsed_sections": [
    "9BEBuDSiTwfU",
    "cVlUJwidVjLr"
   ],
   "name": "Heart Disease Prediction.ipynb",
   "provenance": [],
   "toc_visible": true
  },
  "kernelspec": {
   "display_name": "Python 3 (ipykernel)",
   "language": "python",
   "name": "python3"
  },
  "language_info": {
   "codemirror_mode": {
    "name": "ipython",
    "version": 3
   },
   "file_extension": ".py",
   "mimetype": "text/x-python",
   "name": "python",
   "nbconvert_exporter": "python",
   "pygments_lexer": "ipython3",
   "version": "3.9.12"
  },
  "varInspector": {
   "cols": {
    "lenName": 16,
    "lenType": 16,
    "lenVar": 40
   },
   "kernels_config": {
    "python": {
     "delete_cmd_postfix": "",
     "delete_cmd_prefix": "del ",
     "library": "var_list.py",
     "varRefreshCmd": "print(var_dic_list())"
    },
    "r": {
     "delete_cmd_postfix": ") ",
     "delete_cmd_prefix": "rm(",
     "library": "var_list.r",
     "varRefreshCmd": "cat(var_dic_list()) "
    }
   },
   "types_to_exclude": [
    "module",
    "function",
    "builtin_function_or_method",
    "instance",
    "_Feature"
   ],
   "window_display": false
  }
 },
 "nbformat": 4,
 "nbformat_minor": 1
}
